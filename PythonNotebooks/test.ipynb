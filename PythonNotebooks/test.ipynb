import numpy as np
import pandas as pd
import matplotlib.pyplot as plt

dataframe1 = pd.read_csv('https://raw.githubusercontent.com/insaid2018/Term-1/master/Data/Projects/FastFoodRestaurants.csv')
dataframe1.head()
print(dataframe1)
