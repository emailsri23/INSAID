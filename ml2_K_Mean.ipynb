{
  "nbformat": 4,
  "nbformat_minor": 0,
  "metadata": {
    "colab": {
      "name": "ml2_K-Mean.ipynb",
      "provenance": [],
      "include_colab_link": true
    },
    "kernelspec": {
      "name": "python3",
      "display_name": "Python 3"
    }
  },
  "cells": [
    {
      "cell_type": "markdown",
      "metadata": {
        "id": "view-in-github",
        "colab_type": "text"
      },
      "source": [
        "<a href=\"https://colab.research.google.com/github/emailsri23/INSAID/blob/my_ml2_Jan2020/ml2_K_Mean.ipynb\" target=\"_parent\"><img src=\"https://colab.research.google.com/assets/colab-badge.svg\" alt=\"Open In Colab\"/></a>"
      ]
    },
    {
      "cell_type": "code",
      "metadata": {
        "id": "IW_c1iDMfsoF",
        "colab_type": "code",
        "colab": {}
      },
      "source": [
        "import pandas as pd\n",
        "import numpy as np\n",
        "from sklearn.cluster import KMeans\n",
        "from sklearn.preprocessing import LabelEncoder\n",
        "from sklearn.preprocessing import StandardScaler\n",
        "from sklearn.preprocessing import MinMaxScaler\n",
        "from sklearn.mixture import GaussianMixture #For GMM clustering\n",
        "import seaborn as sns\n",
        "import matplotlib.pyplot as plt\n",
        "\n",
        "%matplotlib inline"
      ],
      "execution_count": 0,
      "outputs": []
    },
    {
      "cell_type": "code",
      "metadata": {
        "id": "mfD-JKBJguja",
        "colab_type": "code",
        "colab": {
          "base_uri": "https://localhost:8080/",
          "height": 510
        },
        "outputId": "9f935667-5c45-48ca-8f4e-cb4f4e0493f2"
      },
      "source": [
        "review_data = pd.read_csv(\"https://raw.githubusercontent.com/insaid2018/Term-3/master/Data/CaseStudy/Womens%20Clothing%20E-Commerce%20Reviews.csv\")\n",
        "review_data.dropna(inplace=True)\n",
        "#review_data=review_data.drop(['Unnamed: 0', 'Clothing ID'],axis=1)\n",
        "print(review_data.dtypes)\n",
        "review_data.head(5)"
      ],
      "execution_count": 3,
      "outputs": [
        {
          "output_type": "stream",
          "text": [
            "Unnamed: 0                  int64\n",
            "Clothing ID                 int64\n",
            "Age                         int64\n",
            "Title                      object\n",
            "Review Text                object\n",
            "Rating                      int64\n",
            "Recommended IND             int64\n",
            "Positive Feedback Count     int64\n",
            "Division Name              object\n",
            "Department Name            object\n",
            "Class Name                 object\n",
            "dtype: object\n"
          ],
          "name": "stdout"
        },
        {
          "output_type": "execute_result",
          "data": {
            "text/html": [
              "<div>\n",
              "<style scoped>\n",
              "    .dataframe tbody tr th:only-of-type {\n",
              "        vertical-align: middle;\n",
              "    }\n",
              "\n",
              "    .dataframe tbody tr th {\n",
              "        vertical-align: top;\n",
              "    }\n",
              "\n",
              "    .dataframe thead th {\n",
              "        text-align: right;\n",
              "    }\n",
              "</style>\n",
              "<table border=\"1\" class=\"dataframe\">\n",
              "  <thead>\n",
              "    <tr style=\"text-align: right;\">\n",
              "      <th></th>\n",
              "      <th>Unnamed: 0</th>\n",
              "      <th>Clothing ID</th>\n",
              "      <th>Age</th>\n",
              "      <th>Title</th>\n",
              "      <th>Review Text</th>\n",
              "      <th>Rating</th>\n",
              "      <th>Recommended IND</th>\n",
              "      <th>Positive Feedback Count</th>\n",
              "      <th>Division Name</th>\n",
              "      <th>Department Name</th>\n",
              "      <th>Class Name</th>\n",
              "    </tr>\n",
              "  </thead>\n",
              "  <tbody>\n",
              "    <tr>\n",
              "      <th>2</th>\n",
              "      <td>2</td>\n",
              "      <td>1077</td>\n",
              "      <td>60</td>\n",
              "      <td>Some major design flaws</td>\n",
              "      <td>I had such high hopes for this dress and reall...</td>\n",
              "      <td>3</td>\n",
              "      <td>0</td>\n",
              "      <td>0</td>\n",
              "      <td>General</td>\n",
              "      <td>Dresses</td>\n",
              "      <td>Dresses</td>\n",
              "    </tr>\n",
              "    <tr>\n",
              "      <th>3</th>\n",
              "      <td>3</td>\n",
              "      <td>1049</td>\n",
              "      <td>50</td>\n",
              "      <td>My favorite buy!</td>\n",
              "      <td>I love, love, love this jumpsuit. it's fun, fl...</td>\n",
              "      <td>5</td>\n",
              "      <td>1</td>\n",
              "      <td>0</td>\n",
              "      <td>General Petite</td>\n",
              "      <td>Bottoms</td>\n",
              "      <td>Pants</td>\n",
              "    </tr>\n",
              "    <tr>\n",
              "      <th>4</th>\n",
              "      <td>4</td>\n",
              "      <td>847</td>\n",
              "      <td>47</td>\n",
              "      <td>Flattering shirt</td>\n",
              "      <td>This shirt is very flattering to all due to th...</td>\n",
              "      <td>5</td>\n",
              "      <td>1</td>\n",
              "      <td>6</td>\n",
              "      <td>General</td>\n",
              "      <td>Tops</td>\n",
              "      <td>Blouses</td>\n",
              "    </tr>\n",
              "    <tr>\n",
              "      <th>5</th>\n",
              "      <td>5</td>\n",
              "      <td>1080</td>\n",
              "      <td>49</td>\n",
              "      <td>Not for the very petite</td>\n",
              "      <td>I love tracy reese dresses, but this one is no...</td>\n",
              "      <td>2</td>\n",
              "      <td>0</td>\n",
              "      <td>4</td>\n",
              "      <td>General</td>\n",
              "      <td>Dresses</td>\n",
              "      <td>Dresses</td>\n",
              "    </tr>\n",
              "    <tr>\n",
              "      <th>6</th>\n",
              "      <td>6</td>\n",
              "      <td>858</td>\n",
              "      <td>39</td>\n",
              "      <td>Cagrcoal shimmer fun</td>\n",
              "      <td>I aded this in my basket at hte last mintue to...</td>\n",
              "      <td>5</td>\n",
              "      <td>1</td>\n",
              "      <td>1</td>\n",
              "      <td>General Petite</td>\n",
              "      <td>Tops</td>\n",
              "      <td>Knits</td>\n",
              "    </tr>\n",
              "  </tbody>\n",
              "</table>\n",
              "</div>"
            ],
            "text/plain": [
              "   Unnamed: 0  Clothing ID  Age  ...   Division Name Department Name  Class Name\n",
              "2           2         1077   60  ...         General         Dresses     Dresses\n",
              "3           3         1049   50  ...  General Petite         Bottoms       Pants\n",
              "4           4          847   47  ...         General            Tops     Blouses\n",
              "5           5         1080   49  ...         General         Dresses     Dresses\n",
              "6           6          858   39  ...  General Petite            Tops       Knits\n",
              "\n",
              "[5 rows x 11 columns]"
            ]
          },
          "metadata": {
            "tags": []
          },
          "execution_count": 3
        }
      ]
    },
    {
      "cell_type": "code",
      "metadata": {
        "id": "kYzZsNEGhfKg",
        "colab_type": "code",
        "colab": {
          "base_uri": "https://localhost:8080/",
          "height": 204
        },
        "outputId": "2aa1f02f-9fc6-4ab0-ff1a-1bb111e1b370"
      },
      "source": [
        "!wget https://raw.githubusercontent.com/abromberg/sentiment_analysis/master/AFINN/AFINN-111.txt"
      ],
      "execution_count": 4,
      "outputs": [
        {
          "output_type": "stream",
          "text": [
            "--2020-02-01 11:32:29--  https://raw.githubusercontent.com/abromberg/sentiment_analysis/master/AFINN/AFINN-111.txt\n",
            "Resolving raw.githubusercontent.com (raw.githubusercontent.com)... 151.101.0.133, 151.101.64.133, 151.101.128.133, ...\n",
            "Connecting to raw.githubusercontent.com (raw.githubusercontent.com)|151.101.0.133|:443... connected.\n",
            "HTTP request sent, awaiting response... 200 OK\n",
            "Length: 28093 (27K) [text/plain]\n",
            "Saving to: ‘AFINN-111.txt’\n",
            "\n",
            "\rAFINN-111.txt         0%[                    ]       0  --.-KB/s               \rAFINN-111.txt       100%[===================>]  27.43K  --.-KB/s    in 0.007s  \n",
            "\n",
            "2020-02-01 11:32:29 (3.71 MB/s) - ‘AFINN-111.txt’ saved [28093/28093]\n",
            "\n"
          ],
          "name": "stdout"
        }
      ]
    },
    {
      "cell_type": "code",
      "metadata": {
        "id": "s9M0t61chr9g",
        "colab_type": "code",
        "colab": {}
      },
      "source": [
        "# remove all the columns that are categorical variables\n",
        "review_data_k_means=review_data.drop(['Unnamed: 0', 'Clothing ID','Class Name','Department Name','Title','Division Name','Recommended IND'],axis=1)"
      ],
      "execution_count": 0,
      "outputs": []
    },
    {
      "cell_type": "code",
      "metadata": {
        "id": "nTYEu0XBiIZb",
        "colab_type": "code",
        "colab": {}
      },
      "source": [
        "with open(\"AFINN-111.txt\",'rb') as fp:\n",
        "  data = fp.read()"
      ],
      "execution_count": 0,
      "outputs": []
    },
    {
      "cell_type": "code",
      "metadata": {
        "id": "jRar6B0eiN0F",
        "colab_type": "code",
        "colab": {
          "base_uri": "https://localhost:8080/",
          "height": 54
        },
        "outputId": "3884c43e-6ef5-421a-eaa1-6127e045993e"
      },
      "source": [
        "data"
      ],
      "execution_count": 10,
      "outputs": [
        {
          "output_type": "execute_result",
          "data": {
            "text/plain": [
              "b\"abandon\\t-2\\nabandoned\\t-2\\nabandons\\t-2\\nabducted\\t-2\\nabduction\\t-2\\nabductions\\t-2\\nabhor\\t-3\\nabhorred\\t-3\\nabhorrent\\t-3\\nabhors\\t-3\\nabilities\\t2\\nability\\t2\\naboard\\t1\\nabsentee\\t-1\\nabsentees\\t-1\\nabsolve\\t2\\nabsolved\\t2\\nabsolves\\t2\\nabsolving\\t2\\nabsorbed\\t1\\nabuse\\t-3\\nabused\\t-3\\nabuses\\t-3\\nabusive\\t-3\\naccept\\t1\\naccepted\\t1\\naccepting\\t1\\naccepts\\t1\\naccident\\t-2\\naccidental\\t-2\\naccidentally\\t-2\\naccidents\\t-2\\naccomplish\\t2\\naccomplished\\t2\\naccomplishes\\t2\\naccusation\\t-2\\naccusations\\t-2\\naccuse\\t-2\\naccused\\t-2\\naccuses\\t-2\\naccusing\\t-2\\nache\\t-2\\nachievable\\t1\\naching\\t-2\\nacquit\\t2\\nacquits\\t2\\nacquitted\\t2\\nacquitting\\t2\\nacrimonious\\t-3\\nactive\\t1\\nadequate\\t1\\nadmire\\t3\\nadmired\\t3\\nadmires\\t3\\nadmiring\\t3\\nadmit\\t-1\\nadmits\\t-1\\nadmitted\\t-1\\nadmonish\\t-2\\nadmonished\\t-2\\nadopt\\t1\\nadopts\\t1\\nadorable\\t3\\nadore\\t3\\nadored\\t3\\nadores\\t3\\nadvanced\\t1\\nadvantage\\t2\\nadvantages\\t2\\nadventure\\t2\\nadventures\\t2\\nadventurous\\t2\\naffected\\t-1\\naffection\\t3\\naffectionate\\t3\\nafflicted\\t-1\\naffronted\\t-1\\nafraid\\t-2\\naggravate\\t-2\\naggravated\\t-2\\naggravates\\t-2\\naggravating\\t-2\\naggression\\t-2\\naggressions\\t-2\\naggressive\\t-2\\naghast\\t-2\\nagog\\t2\\nagonise\\t-3\\nagonised\\t-3\\nagonises\\t-3\\nagonising\\t-3\\nagonize\\t-3\\nagonized\\t-3\\nagonizes\\t-3\\nagonizing\\t-3\\nagree\\t1\\nagreeable\\t2\\nagreed\\t1\\nagreement\\t1\\nagrees\\t1\\nalarm\\t-2\\nalarmed\\t-2\\nalarmist\\t-2\\nalarmists\\t-2\\nalas\\t-1\\nalert\\t-1\\nalienation\\t-2\\nalive\\t1\\nallergic\\t-2\\nallow\\t1\\nalone\\t-2\\namaze\\t2\\namazed\\t2\\namazes\\t2\\namazing\\t4\\nambitious\\t2\\nambivalent\\t-1\\namuse\\t3\\namused\\t3\\namusement\\t3\\namusements\\t3\\nanger\\t-3\\nangers\\t-3\\nangry\\t-3\\nanguish\\t-3\\nanguished\\t-3\\nanimosity\\t-2\\nannoy\\t-2\\nannoyance\\t-2\\nannoyed\\t-2\\nannoying\\t-2\\nannoys\\t-2\\nantagonistic\\t-2\\nanti\\t-1\\nanticipation\\t1\\nanxiety\\t-2\\nanxious\\t-2\\napathetic\\t-3\\napathy\\t-3\\napeshit\\t-3\\napocalyptic\\t-2\\napologise\\t-1\\napologised\\t-1\\napologises\\t-1\\napologising\\t-1\\napologize\\t-1\\napologized\\t-1\\napologizes\\t-1\\napologizing\\t-1\\napology\\t-1\\nappalled\\t-2\\nappalling\\t-2\\nappease\\t2\\nappeased\\t2\\nappeases\\t2\\nappeasing\\t2\\napplaud\\t2\\napplauded\\t2\\napplauding\\t2\\napplauds\\t2\\napplause\\t2\\nappreciate\\t2\\nappreciated\\t2\\nappreciates\\t2\\nappreciating\\t2\\nappreciation\\t2\\napprehensive\\t-2\\napproval\\t2\\napproved\\t2\\napproves\\t2\\nardent\\t1\\narrest\\t-2\\narrested\\t-3\\narrests\\t-2\\narrogant\\t-2\\nashame\\t-2\\nashamed\\t-2\\nass\\t-4\\nassassination\\t-3\\nassassinations\\t-3\\nasset\\t2\\nassets\\t2\\nassfucking\\t-4\\nasshole\\t-4\\nastonished\\t2\\nastound\\t3\\nastounded\\t3\\nastounding\\t3\\nastoundingly\\t3\\nastounds\\t3\\nattack\\t-1\\nattacked\\t-1\\nattacking\\t-1\\nattacks\\t-1\\nattract\\t1\\nattracted\\t1\\nattracting\\t2\\nattraction\\t2\\nattractions\\t2\\nattracts\\t1\\naudacious\\t3\\nauthority\\t1\\navert\\t-1\\naverted\\t-1\\naverts\\t-1\\navid\\t2\\navoid\\t-1\\navoided\\t-1\\navoids\\t-1\\nawait\\t-1\\nawaited\\t-1\\nawaits\\t-1\\naward\\t3\\nawarded\\t3\\nawards\\t3\\nawesome\\t4\\nawful\\t-3\\nawkward\\t-2\\naxe\\t-1\\naxed\\t-1\\nbacked\\t1\\nbacking\\t2\\nbacks\\t1\\nbad\\t-3\\nbadass\\t-3\\nbadly\\t-3\\nbailout\\t-2\\nbamboozle\\t-2\\nbamboozled\\t-2\\nbamboozles\\t-2\\nban\\t-2\\nbanish\\t-1\\nbankrupt\\t-3\\nbankster\\t-3\\nbanned\\t-2\\nbargain\\t2\\nbarrier\\t-2\\nbastard\\t-5\\nbastards\\t-5\\nbattle\\t-1\\nbattles\\t-1\\nbeaten\\t-2\\nbeatific\\t3\\nbeating\\t-1\\nbeauties\\t3\\nbeautiful\\t3\\nbeautifully\\t3\\nbeautify\\t3\\nbelittle\\t-2\\nbelittled\\t-2\\nbeloved\\t3\\nbenefit\\t2\\nbenefits\\t2\\nbenefitted\\t2\\nbenefitting\\t2\\nbereave\\t-2\\nbereaved\\t-2\\nbereaves\\t-2\\nbereaving\\t-2\\nbest\\t3\\nbetray\\t-3\\nbetrayal\\t-3\\nbetrayed\\t-3\\nbetraying\\t-3\\nbetrays\\t-3\\nbetter\\t2\\nbias\\t-1\\nbiased\\t-2\\nbig\\t1\\nbitch\\t-5\\nbitches\\t-5\\nbitter\\t-2\\nbitterly\\t-2\\nbizarre\\t-2\\nblah\\t-2\\nblame\\t-2\\nblamed\\t-2\\nblames\\t-2\\nblaming\\t-2\\nbless\\t2\\nblesses\\t2\\nblessing\\t3\\nblind\\t-1\\nbliss\\t3\\nblissful\\t3\\nblithe\\t2\\nblock\\t-1\\nblockbuster\\t3\\nblocked\\t-1\\nblocking\\t-1\\nblocks\\t-1\\nbloody\\t-3\\nblurry\\t-2\\nboastful\\t-2\\nbold\\t2\\nboldly\\t2\\nbomb\\t-1\\nboost\\t1\\nboosted\\t1\\nboosting\\t1\\nboosts\\t1\\nbore\\t-2\\nbored\\t-2\\nboring\\t-3\\nbother\\t-2\\nbothered\\t-2\\nbothers\\t-2\\nbothersome\\t-2\\nboycott\\t-2\\nboycotted\\t-2\\nboycotting\\t-2\\nboycotts\\t-2\\nbrainwashing\\t-3\\nbrave\\t2\\nbreakthrough\\t3\\nbreathtaking\\t5\\nbribe\\t-3\\nbright\\t1\\nbrightest\\t2\\nbrightness\\t1\\nbrilliant\\t4\\nbrisk\\t2\\nbroke\\t-1\\nbroken\\t-1\\nbrooding\\t-2\\nbullied\\t-2\\nbullshit\\t-4\\nbully\\t-2\\nbullying\\t-2\\nbummer\\t-2\\nbuoyant\\t2\\nburden\\t-2\\nburdened\\t-2\\nburdening\\t-2\\nburdens\\t-2\\ncalm\\t2\\ncalmed\\t2\\ncalming\\t2\\ncalms\\t2\\ncan't stand\\t-3\\ncancel\\t-1\\ncancelled\\t-1\\ncancelling\\t-1\\ncancels\\t-1\\ncancer\\t-1\\ncapable\\t1\\ncaptivated\\t3\\ncare\\t2\\ncarefree\\t1\\ncareful\\t2\\ncarefully\\t2\\ncareless\\t-2\\ncares\\t2\\ncashing in\\t-2\\ncasualty\\t-2\\ncatastrophe\\t-3\\ncatastrophic\\t-4\\ncautious\\t-1\\ncelebrate\\t3\\ncelebrated\\t3\\ncelebrates\\t3\\ncelebrating\\t3\\ncensor\\t-2\\ncensored\\t-2\\ncensors\\t-2\\ncertain\\t1\\nchagrin\\t-2\\nchagrined\\t-2\\nchallenge\\t-1\\nchance\\t2\\nchances\\t2\\nchaos\\t-2\\nchaotic\\t-2\\ncharged\\t-3\\ncharges\\t-2\\ncharm\\t3\\ncharming\\t3\\ncharmless\\t-3\\nchastise\\t-3\\nchastised\\t-3\\nchastises\\t-3\\nchastising\\t-3\\ncheat\\t-3\\ncheated\\t-3\\ncheater\\t-3\\ncheaters\\t-3\\ncheats\\t-3\\ncheer\\t2\\ncheered\\t2\\ncheerful\\t2\\ncheering\\t2\\ncheerless\\t-2\\ncheers\\t2\\ncheery\\t3\\ncherish\\t2\\ncherished\\t2\\ncherishes\\t2\\ncherishing\\t2\\nchic\\t2\\nchildish\\t-2\\nchilling\\t-1\\nchoke\\t-2\\nchoked\\t-2\\nchokes\\t-2\\nchoking\\t-2\\nclarifies\\t2\\nclarity\\t2\\nclash\\t-2\\nclassy\\t3\\nclean\\t2\\ncleaner\\t2\\nclear\\t1\\ncleared\\t1\\nclearly\\t1\\nclears\\t1\\nclever\\t2\\nclouded\\t-1\\nclueless\\t-2\\ncock\\t-5\\ncocksucker\\t-5\\ncocksuckers\\t-5\\ncocky\\t-2\\ncoerced\\t-2\\ncollapse\\t-2\\ncollapsed\\t-2\\ncollapses\\t-2\\ncollapsing\\t-2\\ncollide\\t-1\\ncollides\\t-1\\ncolliding\\t-1\\ncollision\\t-2\\ncollisions\\t-2\\ncolluding\\t-3\\ncombat\\t-1\\ncombats\\t-1\\ncomedy\\t1\\ncomfort\\t2\\ncomfortable\\t2\\ncomforting\\t2\\ncomforts\\t2\\ncommend\\t2\\ncommended\\t2\\ncommit\\t1\\ncommitment\\t2\\ncommits\\t1\\ncommitted\\t1\\ncommitting\\t1\\ncompassionate\\t2\\ncompelled\\t1\\ncompetent\\t2\\ncompetitive\\t2\\ncomplacent\\t-2\\ncomplain\\t-2\\ncomplained\\t-2\\ncomplains\\t-2\\ncomprehensive\\t2\\nconciliate\\t2\\nconciliated\\t2\\nconciliates\\t2\\nconciliating\\t2\\ncondemn\\t-2\\ncondemnation\\t-2\\ncondemned\\t-2\\ncondemns\\t-2\\nconfidence\\t2\\nconfident\\t2\\nconflict\\t-2\\nconflicting\\t-2\\nconflictive\\t-2\\nconflicts\\t-2\\nconfuse\\t-2\\nconfused\\t-2\\nconfusing\\t-2\\ncongrats\\t2\\ncongratulate\\t2\\ncongratulation\\t2\\ncongratulations\\t2\\nconsent\\t2\\nconsents\\t2\\nconsolable\\t2\\nconspiracy\\t-3\\nconstrained\\t-2\\ncontagion\\t-2\\ncontagions\\t-2\\ncontagious\\t-1\\ncontempt\\t-2\\ncontemptuous\\t-2\\ncontemptuously\\t-2\\ncontend\\t-1\\ncontender\\t-1\\ncontending\\t-1\\ncontentious\\t-2\\ncontestable\\t-2\\ncontroversial\\t-2\\ncontroversially\\t-2\\nconvince\\t1\\nconvinced\\t1\\nconvinces\\t1\\nconvivial\\t2\\ncool\\t1\\ncool stuff\\t3\\ncornered\\t-2\\ncorpse\\t-1\\ncostly\\t-2\\ncourage\\t2\\ncourageous\\t2\\ncourteous\\t2\\ncourtesy\\t2\\ncover-up\\t-3\\ncoward\\t-2\\ncowardly\\t-2\\ncoziness\\t2\\ncramp\\t-1\\ncrap\\t-3\\ncrash\\t-2\\ncrazier\\t-2\\ncraziest\\t-2\\ncrazy\\t-2\\ncreative\\t2\\ncrestfallen\\t-2\\ncried\\t-2\\ncries\\t-2\\ncrime\\t-3\\ncriminal\\t-3\\ncriminals\\t-3\\ncrisis\\t-3\\ncritic\\t-2\\ncriticism\\t-2\\ncriticize\\t-2\\ncriticized\\t-2\\ncriticizes\\t-2\\ncriticizing\\t-2\\ncritics\\t-2\\ncruel\\t-3\\ncruelty\\t-3\\ncrush\\t-1\\ncrushed\\t-2\\ncrushes\\t-1\\ncrushing\\t-1\\ncry\\t-1\\ncrying\\t-2\\ncunt\\t-5\\ncurious\\t1\\ncurse\\t-1\\ncut\\t-1\\ncute\\t2\\ncuts\\t-1\\ncutting\\t-1\\ncynic\\t-2\\ncynical\\t-2\\ncynicism\\t-2\\ndamage\\t-3\\ndamages\\t-3\\ndamn\\t-4\\ndamned\\t-4\\ndamnit\\t-4\\ndanger\\t-2\\ndaredevil\\t2\\ndaring\\t2\\ndarkest\\t-2\\ndarkness\\t-1\\ndauntless\\t2\\ndead\\t-3\\ndeadlock\\t-2\\ndeafening\\t-1\\ndear\\t2\\ndearly\\t3\\ndeath\\t-2\\ndebonair\\t2\\ndebt\\t-2\\ndeceit\\t-3\\ndeceitful\\t-3\\ndeceive\\t-3\\ndeceived\\t-3\\ndeceives\\t-3\\ndeceiving\\t-3\\ndeception\\t-3\\ndecisive\\t1\\ndedicated\\t2\\ndefeated\\t-2\\ndefect\\t-3\\ndefects\\t-3\\ndefender\\t2\\ndefenders\\t2\\ndefenseless\\t-2\\ndefer\\t-1\\ndeferring\\t-1\\ndefiant\\t-1\\ndeficit\\t-2\\ndegrade\\t-2\\ndegraded\\t-2\\ndegrades\\t-2\\ndehumanize\\t-2\\ndehumanized\\t-2\\ndehumanizes\\t-2\\ndehumanizing\\t-2\\ndeject\\t-2\\ndejected\\t-2\\ndejecting\\t-2\\ndejects\\t-2\\ndelay\\t-1\\ndelayed\\t-1\\ndelight\\t3\\ndelighted\\t3\\ndelighting\\t3\\ndelights\\t3\\ndemand\\t-1\\ndemanded\\t-1\\ndemanding\\t-1\\ndemands\\t-1\\ndemonstration\\t-1\\ndemoralized\\t-2\\ndenied\\t-2\\ndenier\\t-2\\ndeniers\\t-2\\ndenies\\t-2\\ndenounce\\t-2\\ndenounces\\t-2\\ndeny\\t-2\\ndenying\\t-2\\ndepressed\\t-2\\ndepressing\\t-2\\nderail\\t-2\\nderailed\\t-2\\nderails\\t-2\\nderide\\t-2\\nderided\\t-2\\nderides\\t-2\\nderiding\\t-2\\nderision\\t-2\\ndesirable\\t2\\ndesire\\t1\\ndesired\\t2\\ndesirous\\t2\\ndespair\\t-3\\ndespairing\\t-3\\ndespairs\\t-3\\ndesperate\\t-3\\ndesperately\\t-3\\ndespondent\\t-3\\ndestroy\\t-3\\ndestroyed\\t-3\\ndestroying\\t-3\\ndestroys\\t-3\\ndestruction\\t-3\\ndestructive\\t-3\\ndetached\\t-1\\ndetain\\t-2\\ndetained\\t-2\\ndetention\\t-2\\ndetermined\\t2\\ndevastate\\t-2\\ndevastated\\t-2\\ndevastating\\t-2\\ndevoted\\t3\\ndiamond\\t1\\ndick\\t-4\\ndickhead\\t-4\\ndie\\t-3\\ndied\\t-3\\ndifficult\\t-1\\ndiffident\\t-2\\ndilemma\\t-1\\ndipshit\\t-3\\ndire\\t-3\\ndireful\\t-3\\ndirt\\t-2\\ndirtier\\t-2\\ndirtiest\\t-2\\ndirty\\t-2\\ndisabling\\t-1\\ndisadvantage\\t-2\\ndisadvantaged\\t-2\\ndisappear\\t-1\\ndisappeared\\t-1\\ndisappears\\t-1\\ndisappoint\\t-2\\ndisappointed\\t-2\\ndisappointing\\t-2\\ndisappointment\\t-2\\ndisappointments\\t-2\\ndisappoints\\t-2\\ndisaster\\t-2\\ndisasters\\t-2\\ndisastrous\\t-3\\ndisbelieve\\t-2\\ndiscard\\t-1\\ndiscarded\\t-1\\ndiscarding\\t-1\\ndiscards\\t-1\\ndisconsolate\\t-2\\ndisconsolation\\t-2\\ndiscontented\\t-2\\ndiscord\\t-2\\ndiscounted\\t-1\\ndiscouraged\\t-2\\ndiscredited\\t-2\\ndisdain\\t-2\\ndisgrace\\t-2\\ndisgraced\\t-2\\ndisguise\\t-1\\ndisguised\\t-1\\ndisguises\\t-1\\ndisguising\\t-1\\ndisgust\\t-3\\ndisgusted\\t-3\\ndisgusting\\t-3\\ndisheartened\\t-2\\ndishonest\\t-2\\ndisillusioned\\t-2\\ndisinclined\\t-2\\ndisjointed\\t-2\\ndislike\\t-2\\ndismal\\t-2\\ndismayed\\t-2\\ndisorder\\t-2\\ndisorganized\\t-2\\ndisoriented\\t-2\\ndisparage\\t-2\\ndisparaged\\t-2\\ndisparages\\t-2\\ndisparaging\\t-2\\ndispleased\\t-2\\ndispute\\t-2\\ndisputed\\t-2\\ndisputes\\t-2\\ndisputing\\t-2\\ndisqualified\\t-2\\ndisquiet\\t-2\\ndisregard\\t-2\\ndisregarded\\t-2\\ndisregarding\\t-2\\ndisregards\\t-2\\ndisrespect\\t-2\\ndisrespected\\t-2\\ndisruption\\t-2\\ndisruptions\\t-2\\ndisruptive\\t-2\\ndissatisfied\\t-2\\ndistort\\t-2\\ndistorted\\t-2\\ndistorting\\t-2\\ndistorts\\t-2\\ndistract\\t-2\\ndistracted\\t-2\\ndistraction\\t-2\\ndistracts\\t-2\\ndistress\\t-2\\ndistressed\\t-2\\ndistresses\\t-2\\ndistressing\\t-2\\ndistrust\\t-3\\ndistrustful\\t-3\\ndisturb\\t-2\\ndisturbed\\t-2\\ndisturbing\\t-2\\ndisturbs\\t-2\\ndithering\\t-2\\ndizzy\\t-1\\ndodging\\t-2\\ndodgy\\t-2\\ndoes not work\\t-3\\ndolorous\\t-2\\ndont like\\t-2\\ndoom\\t-2\\ndoomed\\t-2\\ndoubt\\t-1\\ndoubted\\t-1\\ndoubtful\\t-1\\ndoubting\\t-1\\ndoubts\\t-1\\ndouche\\t-3\\ndouchebag\\t-3\\ndowncast\\t-2\\ndownhearted\\t-2\\ndownside\\t-2\\ndrag\\t-1\\ndragged\\t-1\\ndrags\\t-1\\ndrained\\t-2\\ndread\\t-2\\ndreaded\\t-2\\ndreadful\\t-3\\ndreading\\t-2\\ndream\\t1\\ndreams\\t1\\ndreary\\t-2\\ndroopy\\t-2\\ndrop\\t-1\\ndrown\\t-2\\ndrowned\\t-2\\ndrowns\\t-2\\ndrunk\\t-2\\ndubious\\t-2\\ndud\\t-2\\ndull\\t-2\\ndumb\\t-3\\ndumbass\\t-3\\ndump\\t-1\\ndumped\\t-2\\ndumps\\t-1\\ndupe\\t-2\\nduped\\t-2\\ndysfunction\\t-2\\neager\\t2\\nearnest\\t2\\nease\\t2\\neasy\\t1\\necstatic\\t4\\neerie\\t-2\\neery\\t-2\\neffective\\t2\\neffectively\\t2\\nelated\\t3\\nelation\\t3\\nelegant\\t2\\nelegantly\\t2\\nembarrass\\t-2\\nembarrassed\\t-2\\nembarrasses\\t-2\\nembarrassing\\t-2\\nembarrassment\\t-2\\nembittered\\t-2\\nembrace\\t1\\nemergency\\t-2\\nempathetic\\t2\\nemptiness\\t-1\\nempty\\t-1\\nenchanted\\t2\\nencourage\\t2\\nencouraged\\t2\\nencouragement\\t2\\nencourages\\t2\\nendorse\\t2\\nendorsed\\t2\\nendorsement\\t2\\nendorses\\t2\\nenemies\\t-2\\nenemy\\t-2\\nenergetic\\t2\\nengage\\t1\\nengages\\t1\\nengrossed\\t1\\nenjoy\\t2\\nenjoying\\t2\\nenjoys\\t2\\nenlighten\\t2\\nenlightened\\t2\\nenlightening\\t2\\nenlightens\\t2\\nennui\\t-2\\nenrage\\t-2\\nenraged\\t-2\\nenrages\\t-2\\nenraging\\t-2\\nenrapture\\t3\\nenslave\\t-2\\nenslaved\\t-2\\nenslaves\\t-2\\nensure\\t1\\nensuring\\t1\\nenterprising\\t1\\nentertaining\\t2\\nenthral\\t3\\nenthusiastic\\t3\\nentitled\\t1\\nentrusted\\t2\\nenvies\\t-1\\nenvious\\t-2\\nenvy\\t-1\\nenvying\\t-1\\nerroneous\\t-2\\nerror\\t-2\\nerrors\\t-2\\nescape\\t-1\\nescapes\\t-1\\nescaping\\t-1\\nesteemed\\t2\\nethical\\t2\\neuphoria\\t3\\neuphoric\\t4\\neviction\\t-1\\nevil\\t-3\\nexaggerate\\t-2\\nexaggerated\\t-2\\nexaggerates\\t-2\\nexaggerating\\t-2\\nexasperated\\t2\\nexcellence\\t3\\nexcellent\\t3\\nexcite\\t3\\nexcited\\t3\\nexcitement\\t3\\nexciting\\t3\\nexclude\\t-1\\nexcluded\\t-2\\nexclusion\\t-1\\nexclusive\\t2\\nexcuse\\t-1\\nexempt\\t-1\\nexhausted\\t-2\\nexhilarated\\t3\\nexhilarates\\t3\\nexhilarating\\t3\\nexonerate\\t2\\nexonerated\\t2\\nexonerates\\t2\\nexonerating\\t2\\nexpand\\t1\\nexpands\\t1\\nexpel\\t-2\\nexpelled\\t-2\\nexpelling\\t-2\\nexpels\\t-2\\nexploit\\t-2\\nexploited\\t-2\\nexploiting\\t-2\\nexploits\\t-2\\nexploration\\t1\\nexplorations\\t1\\nexpose\\t-1\\nexposed\\t-1\\nexposes\\t-1\\nexposing\\t-1\\nextend\\t1\\nextends\\t1\\nexuberant\\t4\\nexultant\\t3\\nexultantly\\t3\\nfabulous\\t4\\nfad\\t-2\\nfag\\t-3\\nfaggot\\t-3\\nfaggots\\t-3\\nfail\\t-2\\nfailed\\t-2\\nfailing\\t-2\\nfails\\t-2\\nfailure\\t-2\\nfailures\\t-2\\nfainthearted\\t-2\\nfair\\t2\\nfaith\\t1\\nfaithful\\t3\\nfake\\t-3\\nfakes\\t-3\\nfaking\\t-3\\nfallen\\t-2\\nfalling\\t-1\\nfalsified\\t-3\\nfalsify\\t-3\\nfame\\t1\\nfan\\t3\\nfantastic\\t4\\nfarce\\t-1\\nfascinate\\t3\\nfascinated\\t3\\nfascinates\\t3\\nfascinating\\t3\\nfascist\\t-2\\nfascists\\t-2\\nfatalities\\t-3\\nfatality\\t-3\\nfatigue\\t-2\\nfatigued\\t-2\\nfatigues\\t-2\\nfatiguing\\t-2\\nfavor\\t2\\nfavored\\t2\\nfavorite\\t2\\nfavorited\\t2\\nfavorites\\t2\\nfavors\\t2\\nfear\\t-2\\nfearful\\t-2\\nfearing\\t-2\\nfearless\\t2\\nfearsome\\t-2\\nfed up\\t-3\\nfeeble\\t-2\\nfeeling\\t1\\nfelonies\\t-3\\nfelony\\t-3\\nfervent\\t2\\nfervid\\t2\\nfestive\\t2\\nfiasco\\t-3\\nfidgety\\t-2\\nfight\\t-1\\nfine\\t2\\nfire\\t-2\\nfired\\t-2\\nfiring\\t-2\\nfit\\t1\\nfitness\\t1\\nflagship\\t2\\nflees\\t-1\\nflop\\t-2\\nflops\\t-2\\nflu\\t-2\\nflustered\\t-2\\nfocused\\t2\\nfond\\t2\\nfondness\\t2\\nfool\\t-2\\nfoolish\\t-2\\nfools\\t-2\\nforced\\t-1\\nforeclosure\\t-2\\nforeclosures\\t-2\\nforget\\t-1\\nforgetful\\t-2\\nforgive\\t1\\nforgiving\\t1\\nforgotten\\t-1\\nfortunate\\t2\\nfrantic\\t-1\\nfraud\\t-4\\nfrauds\\t-4\\nfraudster\\t-4\\nfraudsters\\t-4\\nfraudulence\\t-4\\nfraudulent\\t-4\\nfree\\t1\\nfreedom\\t2\\nfrenzy\\t-3\\nfresh\\t1\\nfriendly\\t2\\nfright\\t-2\\nfrightened\\t-2\\nfrightening\\t-3\\nfrikin\\t-2\\nfrisky\\t2\\nfrowning\\t-1\\nfrustrate\\t-2\\nfrustrated\\t-2\\nfrustrates\\t-2\\nfrustrating\\t-2\\nfrustration\\t-2\\nftw\\t3\\nfuck\\t-4\\nfucked\\t-4\\nfucker\\t-4\\nfuckers\\t-4\\nfuckface\\t-4\\nfuckhead\\t-4\\nfucking\\t-4\\nfucktard\\t-4\\nfud\\t-3\\nfuked\\t-4\\nfuking\\t-4\\nfulfill\\t2\\nfulfilled\\t2\\nfulfills\\t2\\nfuming\\t-2\\nfun\\t4\\nfuneral\\t-1\\nfunerals\\t-1\\nfunky\\t2\\nfunnier\\t4\\nfunny\\t4\\nfurious\\t-3\\nfutile\\t2\\ngag\\t-2\\ngagged\\t-2\\ngain\\t2\\ngained\\t2\\ngaining\\t2\\ngains\\t2\\ngallant\\t3\\ngallantly\\t3\\ngallantry\\t3\\ngenerous\\t2\\ngenial\\t3\\nghost\\t-1\\ngiddy\\t-2\\ngift\\t2\\nglad\\t3\\nglamorous\\t3\\nglamourous\\t3\\nglee\\t3\\ngleeful\\t3\\ngloom\\t-1\\ngloomy\\t-2\\nglorious\\t2\\nglory\\t2\\nglum\\t-2\\ngod\\t1\\ngoddamn\\t-3\\ngodsend\\t4\\ngood\\t3\\ngoodness\\t3\\ngrace\\t1\\ngracious\\t3\\ngrand\\t3\\ngrant\\t1\\ngranted\\t1\\ngranting\\t1\\ngrants\\t1\\ngrateful\\t3\\ngratification\\t2\\ngrave\\t-2\\ngray\\t-1\\ngreat\\t3\\ngreater\\t3\\ngreatest\\t3\\ngreed\\t-3\\ngreedy\\t-2\\ngreen wash\\t-3\\ngreen washing\\t-3\\ngreenwash\\t-3\\ngreenwasher\\t-3\\ngreenwashers\\t-3\\ngreenwashing\\t-3\\ngreet\\t1\\ngreeted\\t1\\ngreeting\\t1\\ngreetings\\t2\\ngreets\\t1\\ngrey\\t-1\\ngrief\\t-2\\ngrieved\\t-2\\ngross\\t-2\\ngrowing\\t1\\ngrowth\\t2\\nguarantee\\t1\\nguilt\\t-3\\nguilty\\t-3\\ngullibility\\t-2\\ngullible\\t-2\\ngun\\t-1\\nha\\t2\\nhacked\\t-1\\nhaha\\t3\\nhahaha\\t3\\nhahahah\\t3\\nhail\\t2\\nhailed\\t2\\nhapless\\t-2\\nhaplessness\\t-2\\nhappiness\\t3\\nhappy\\t3\\nhard\\t-1\\nhardier\\t2\\nhardship\\t-2\\nhardy\\t2\\nharm\\t-2\\nharmed\\t-2\\nharmful\\t-2\\nharming\\t-2\\nharms\\t-2\\nharried\\t-2\\nharsh\\t-2\\nharsher\\t-2\\nharshest\\t-2\\nhate\\t-3\\nhated\\t-3\\nhaters\\t-3\\nhates\\t-3\\nhating\\t-3\\nhaunt\\t-1\\nhaunted\\t-2\\nhaunting\\t1\\nhaunts\\t-1\\nhavoc\\t-2\\nhealthy\\t2\\nheartbreaking\\t-3\\nheartbroken\\t-3\\nheartfelt\\t3\\nheaven\\t2\\nheavenly\\t4\\nheavyhearted\\t-2\\nhell\\t-4\\nhelp\\t2\\nhelpful\\t2\\nhelping\\t2\\nhelpless\\t-2\\nhelps\\t2\\nhero\\t2\\nheroes\\t2\\nheroic\\t3\\nhesitant\\t-2\\nhesitate\\t-2\\nhid\\t-1\\nhide\\t-1\\nhides\\t-1\\nhiding\\t-1\\nhighlight\\t2\\nhilarious\\t2\\nhindrance\\t-2\\nhoax\\t-2\\nhomesick\\t-2\\nhonest\\t2\\nhonor\\t2\\nhonored\\t2\\nhonoring\\t2\\nhonour\\t2\\nhonoured\\t2\\nhonouring\\t2\\nhooligan\\t-2\\nhooliganism\\t-2\\nhooligans\\t-2\\nhope\\t2\\nhopeful\\t2\\nhopefully\\t2\\nhopeless\\t-2\\nhopelessness\\t-2\\nhopes\\t2\\nhoping\\t2\\nhorrendous\\t-3\\nhorrible\\t-3\\nhorrific\\t-3\\nhorrified\\t-3\\nhostile\\t-2\\nhuckster\\t-2\\nhug\\t2\\nhuge\\t1\\nhugs\\t2\\nhumerous\\t3\\nhumiliated\\t-3\\nhumiliation\\t-3\\nhumor\\t2\\nhumorous\\t2\\nhumour\\t2\\nhumourous\\t2\\nhunger\\t-2\\nhurrah\\t5\\nhurt\\t-2\\nhurting\\t-2\\nhurts\\t-2\\nhypocritical\\t-2\\nhysteria\\t-3\\nhysterical\\t-3\\nhysterics\\t-3\\nidiot\\t-3\\nidiotic\\t-3\\nignorance\\t-2\\nignorant\\t-2\\nignore\\t-1\\nignored\\t-2\\nignores\\t-1\\nill\\t-2\\nillegal\\t-3\\nilliteracy\\t-2\\nillness\\t-2\\nillnesses\\t-2\\nimbecile\\t-3\\nimmobilized\\t-1\\nimmortal\\t2\\nimmune\\t1\\nimpatient\\t-2\\nimperfect\\t-2\\nimportance\\t2\\nimportant\\t2\\nimpose\\t-1\\nimposed\\t-1\\nimposes\\t-1\\nimposing\\t-1\\nimpotent\\t-2\\nimpress\\t3\\nimpressed\\t3\\nimpresses\\t3\\nimpressive\\t3\\nimprisoned\\t-2\\nimprove\\t2\\nimproved\\t2\\nimprovement\\t2\\nimproves\\t2\\nimproving\\t2\\ninability\\t-2\\ninaction\\t-2\\ninadequate\\t-2\\nincapable\\t-2\\nincapacitated\\t-2\\nincensed\\t-2\\nincompetence\\t-2\\nincompetent\\t-2\\ninconsiderate\\t-2\\ninconvenience\\t-2\\ninconvenient\\t-2\\nincrease\\t1\\nincreased\\t1\\nindecisive\\t-2\\nindestructible\\t2\\nindifference\\t-2\\nindifferent\\t-2\\nindignant\\t-2\\nindignation\\t-2\\nindoctrinate\\t-2\\nindoctrinated\\t-2\\nindoctrinates\\t-2\\nindoctrinating\\t-2\\nineffective\\t-2\\nineffectively\\t-2\\ninfatuated\\t2\\ninfatuation\\t2\\ninfected\\t-2\\ninferior\\t-2\\ninflamed\\t-2\\ninfluential\\t2\\ninfringement\\t-2\\ninfuriate\\t-2\\ninfuriated\\t-2\\ninfuriates\\t-2\\ninfuriating\\t-2\\ninhibit\\t-1\\ninjured\\t-2\\ninjury\\t-2\\ninjustice\\t-2\\ninnovate\\t1\\ninnovates\\t1\\ninnovation\\t1\\ninnovative\\t2\\ninquisition\\t-2\\ninquisitive\\t2\\ninsane\\t-2\\ninsanity\\t-2\\ninsecure\\t-2\\ninsensitive\\t-2\\ninsensitivity\\t-2\\ninsignificant\\t-2\\ninsipid\\t-2\\ninspiration\\t2\\ninspirational\\t2\\ninspire\\t2\\ninspired\\t2\\ninspires\\t2\\ninspiring\\t3\\ninsult\\t-2\\ninsulted\\t-2\\ninsulting\\t-2\\ninsults\\t-2\\nintact\\t2\\nintegrity\\t2\\nintelligent\\t2\\nintense\\t1\\ninterest\\t1\\ninterested\\t2\\ninteresting\\t2\\ninterests\\t1\\ninterrogated\\t-2\\ninterrupt\\t-2\\ninterrupted\\t-2\\ninterrupting\\t-2\\ninterruption\\t-2\\ninterrupts\\t-2\\nintimidate\\t-2\\nintimidated\\t-2\\nintimidates\\t-2\\nintimidating\\t-2\\nintimidation\\t-2\\nintricate\\t2\\nintrigues\\t1\\ninvincible\\t2\\ninvite\\t1\\ninviting\\t1\\ninvulnerable\\t2\\nirate\\t-3\\nironic\\t-1\\nirony\\t-1\\nirrational\\t-1\\nirresistible\\t2\\nirresolute\\t-2\\nirresponsible\\t2\\nirreversible\\t-1\\nirritate\\t-3\\nirritated\\t-3\\nirritating\\t-3\\nisolated\\t-1\\nitchy\\t-2\\njackass\\t-4\\njackasses\\t-4\\njailed\\t-2\\njaunty\\t2\\njealous\\t-2\\njeopardy\\t-2\\njerk\\t-3\\njesus\\t1\\njewel\\t1\\njewels\\t1\\njocular\\t2\\njoin\\t1\\njoke\\t2\\njokes\\t2\\njolly\\t2\\njovial\\t2\\njoy\\t3\\njoyful\\t3\\njoyfully\\t3\\njoyless\\t-2\\njoyous\\t3\\njubilant\\t3\\njumpy\\t-1\\njustice\\t2\\njustifiably\\t2\\njustified\\t2\\nkeen\\t1\\nkill\\t-3\\nkilled\\t-3\\nkilling\\t-3\\nkills\\t-3\\nkind\\t2\\nkinder\\t2\\nkiss\\t2\\nkudos\\t3\\nlack\\t-2\\nlackadaisical\\t-2\\nlag\\t-1\\nlagged\\t-2\\nlagging\\t-2\\nlags\\t-2\\nlame\\t-2\\nlandmark\\t2\\nlaugh\\t1\\nlaughed\\t1\\nlaughing\\t1\\nlaughs\\t1\\nlaughting\\t1\\nlaunched\\t1\\nlawl\\t3\\nlawsuit\\t-2\\nlawsuits\\t-2\\nlazy\\t-1\\nleak\\t-1\\nleaked\\t-1\\nleave\\t-1\\nlegal\\t1\\nlegally\\t1\\nlenient\\t1\\nlethargic\\t-2\\nlethargy\\t-2\\nliar\\t-3\\nliars\\t-3\\nlibelous\\t-2\\nlied\\t-2\\nlifesaver\\t4\\nlighthearted\\t1\\nlike\\t2\\nliked\\t2\\nlikes\\t2\\nlimitation\\t-1\\nlimited\\t-1\\nlimits\\t-1\\nlitigation\\t-1\\nlitigious\\t-2\\nlively\\t2\\nlivid\\t-2\\nlmao\\t4\\nlmfao\\t4\\nloathe\\t-3\\nloathed\\t-3\\nloathes\\t-3\\nloathing\\t-3\\nlobby\\t-2\\nlobbying\\t-2\\nlol\\t3\\nlonely\\t-2\\nlonesome\\t-2\\nlonging\\t-1\\nloom\\t-1\\nloomed\\t-1\\nlooming\\t-1\\nlooms\\t-1\\nloose\\t-3\\nlooses\\t-3\\nloser\\t-3\\nlosing\\t-3\\nloss\\t-3\\nlost\\t-3\\nlovable\\t3\\nlove\\t3\\nloved\\t3\\nlovelies\\t3\\nlovely\\t3\\nloving\\t2\\nlowest\\t-1\\nloyal\\t3\\nloyalty\\t3\\nluck\\t3\\nluckily\\t3\\nlucky\\t3\\nlugubrious\\t-2\\nlunatic\\t-3\\nlunatics\\t-3\\nlurk\\t-1\\nlurking\\t-1\\nlurks\\t-1\\nmad\\t-3\\nmaddening\\t-3\\nmade-up\\t-1\\nmadly\\t-3\\nmadness\\t-3\\nmandatory\\t-1\\nmanipulated\\t-1\\nmanipulating\\t-1\\nmanipulation\\t-1\\nmarvel\\t3\\nmarvelous\\t3\\nmarvels\\t3\\nmasterpiece\\t4\\nmasterpieces\\t4\\nmatter\\t1\\nmatters\\t1\\nmature\\t2\\nmeaningful\\t2\\nmeaningless\\t-2\\nmedal\\t3\\nmediocrity\\t-3\\nmeditative\\t1\\nmelancholy\\t-2\\nmenace\\t-2\\nmenaced\\t-2\\nmercy\\t2\\nmerry\\t3\\nmess\\t-2\\nmessed\\t-2\\nmessing up\\t-2\\nmethodical\\t2\\nmindless\\t-2\\nmiracle\\t4\\nmirth\\t3\\nmirthful\\t3\\nmirthfully\\t3\\nmisbehave\\t-2\\nmisbehaved\\t-2\\nmisbehaves\\t-2\\nmisbehaving\\t-2\\nmischief\\t-1\\nmischiefs\\t-1\\nmiserable\\t-3\\nmisery\\t-2\\nmisgiving\\t-2\\nmisinformation\\t-2\\nmisinformed\\t-2\\nmisinterpreted\\t-2\\nmisleading\\t-3\\nmisread\\t-1\\nmisreporting\\t-2\\nmisrepresentation\\t-2\\nmiss\\t-2\\nmissed\\t-2\\nmissing\\t-2\\nmistake\\t-2\\nmistaken\\t-2\\nmistakes\\t-2\\nmistaking\\t-2\\nmisunderstand\\t-2\\nmisunderstanding\\t-2\\nmisunderstands\\t-2\\nmisunderstood\\t-2\\nmoan\\t-2\\nmoaned\\t-2\\nmoaning\\t-2\\nmoans\\t-2\\nmock\\t-2\\nmocked\\t-2\\nmocking\\t-2\\nmocks\\t-2\\nmongering\\t-2\\nmonopolize\\t-2\\nmonopolized\\t-2\\nmonopolizes\\t-2\\nmonopolizing\\t-2\\nmoody\\t-1\\nmope\\t-1\\nmoping\\t-1\\nmoron\\t-3\\nmotherfucker\\t-5\\nmotherfucking\\t-5\\nmotivate\\t1\\nmotivated\\t2\\nmotivating\\t2\\nmotivation\\t1\\nmourn\\t-2\\nmourned\\t-2\\nmournful\\t-2\\nmourning\\t-2\\nmourns\\t-2\\nmumpish\\t-2\\nmurder\\t-2\\nmurderer\\t-2\\nmurdering\\t-3\\nmurderous\\t-3\\nmurders\\t-2\\nmyth\\t-1\\nn00b\\t-2\\nnaive\\t-2\\nnasty\\t-3\\nnatural\\t1\\nna\\xc3\\xafve\\t-2\\nneedy\\t-2\\nnegative\\t-2\\nnegativity\\t-2\\nneglect\\t-2\\nneglected\\t-2\\nneglecting\\t-2\\nneglects\\t-2\\nnerves\\t-1\\nnervous\\t-2\\nnervously\\t-2\\nnice\\t3\\nnifty\\t2\\nniggas\\t-5\\nnigger\\t-5\\nno\\t-1\\nno fun\\t-3\\nnoble\\t2\\nnoisy\\t-1\\nnonsense\\t-2\\nnoob\\t-2\\nnosey\\t-2\\nnot good\\t-2\\nnot working\\t-3\\nnotorious\\t-2\\nnovel\\t2\\nnumb\\t-1\\nnuts\\t-3\\nobliterate\\t-2\\nobliterated\\t-2\\nobnoxious\\t-3\\nobscene\\t-2\\nobsessed\\t2\\nobsolete\\t-2\\nobstacle\\t-2\\nobstacles\\t-2\\nobstinate\\t-2\\nodd\\t-2\\noffend\\t-2\\noffended\\t-2\\noffender\\t-2\\noffending\\t-2\\noffends\\t-2\\noffline\\t-1\\noks\\t2\\nominous\\t3\\nonce-in-a-lifetime\\t3\\nopportunities\\t2\\nopportunity\\t2\\noppressed\\t-2\\noppressive\\t-2\\noptimism\\t2\\noptimistic\\t2\\noptionless\\t-2\\noutcry\\t-2\\noutmaneuvered\\t-2\\noutrage\\t-3\\noutraged\\t-3\\noutreach\\t2\\noutstanding\\t5\\noverjoyed\\t4\\noverload\\t-1\\noverlooked\\t-1\\noverreact\\t-2\\noverreacted\\t-2\\noverreaction\\t-2\\noverreacts\\t-2\\noversell\\t-2\\noverselling\\t-2\\noversells\\t-2\\noversimplification\\t-2\\noversimplified\\t-2\\noversimplifies\\t-2\\noversimplify\\t-2\\noverstatement\\t-2\\noverstatements\\t-2\\noverweight\\t-1\\noxymoron\\t-1\\npain\\t-2\\npained\\t-2\\npanic\\t-3\\npanicked\\t-3\\npanics\\t-3\\nparadise\\t3\\nparadox\\t-1\\npardon\\t2\\npardoned\\t2\\npardoning\\t2\\npardons\\t2\\nparley\\t-1\\npassionate\\t2\\npassive\\t-1\\npassively\\t-1\\npathetic\\t-2\\npay\\t-1\\npeace\\t2\\npeaceful\\t2\\npeacefully\\t2\\npenalty\\t-2\\npensive\\t-1\\nperfect\\t3\\nperfected\\t2\\nperfectly\\t3\\nperfects\\t2\\nperil\\t-2\\nperjury\\t-3\\nperpetrator\\t-2\\nperpetrators\\t-2\\nperplexed\\t-2\\npersecute\\t-2\\npersecuted\\t-2\\npersecutes\\t-2\\npersecuting\\t-2\\nperturbed\\t-2\\npesky\\t-2\\npessimism\\t-2\\npessimistic\\t-2\\npetrified\\t-2\\nphobic\\t-2\\npicturesque\\t2\\npileup\\t-1\\npique\\t-2\\npiqued\\t-2\\npiss\\t-4\\npissed\\t-4\\npissing\\t-3\\npiteous\\t-2\\npitied\\t-1\\npity\\t-2\\nplayful\\t2\\npleasant\\t3\\nplease\\t1\\npleased\\t3\\npleasure\\t3\\npoised\\t-2\\npoison\\t-2\\npoisoned\\t-2\\npoisons\\t-2\\npollute\\t-2\\npolluted\\t-2\\npolluter\\t-2\\npolluters\\t-2\\npollutes\\t-2\\npoor\\t-2\\npoorer\\t-2\\npoorest\\t-2\\npopular\\t3\\npositive\\t2\\npositively\\t2\\npossessive\\t-2\\npostpone\\t-1\\npostponed\\t-1\\npostpones\\t-1\\npostponing\\t-1\\npoverty\\t-1\\npowerful\\t2\\npowerless\\t-2\\npraise\\t3\\npraised\\t3\\npraises\\t3\\npraising\\t3\\npray\\t1\\npraying\\t1\\nprays\\t1\\nprblm\\t-2\\nprblms\\t-2\\nprepared\\t1\\npressure\\t-1\\npressured\\t-2\\npretend\\t-1\\npretending\\t-1\\npretends\\t-1\\npretty\\t1\\nprevent\\t-1\\nprevented\\t-1\\npreventing\\t-1\\nprevents\\t-1\\nprick\\t-5\\nprison\\t-2\\nprisoner\\t-2\\nprisoners\\t-2\\nprivileged\\t2\\nproactive\\t2\\nproblem\\t-2\\nproblems\\t-2\\nprofiteer\\t-2\\nprogress\\t2\\nprominent\\t2\\npromise\\t1\\npromised\\t1\\npromises\\t1\\npromote\\t1\\npromoted\\t1\\npromotes\\t1\\npromoting\\t1\\npropaganda\\t-2\\nprosecute\\t-1\\nprosecuted\\t-2\\nprosecutes\\t-1\\nprosecution\\t-1\\nprospect\\t1\\nprospects\\t1\\nprosperous\\t3\\nprotect\\t1\\nprotected\\t1\\nprotects\\t1\\nprotest\\t-2\\nprotesters\\t-2\\nprotesting\\t-2\\nprotests\\t-2\\nproud\\t2\\nproudly\\t2\\nprovoke\\t-1\\nprovoked\\t-1\\nprovokes\\t-1\\nprovoking\\t-1\\npseudoscience\\t-3\\npunish\\t-2\\npunished\\t-2\\npunishes\\t-2\\npunitive\\t-2\\npushy\\t-1\\npuzzled\\t-2\\nquaking\\t-2\\nquestionable\\t-2\\nquestioned\\t-1\\nquestioning\\t-1\\nracism\\t-3\\nracist\\t-3\\nracists\\t-3\\nrage\\t-2\\nrageful\\t-2\\nrainy\\t-1\\nrant\\t-3\\nranter\\t-3\\nranters\\t-3\\nrants\\t-3\\nrape\\t-4\\nrapist\\t-4\\nrapture\\t2\\nraptured\\t2\\nraptures\\t2\\nrapturous\\t4\\nrash\\t-2\\nratified\\t2\\nreach\\t1\\nreached\\t1\\nreaches\\t1\\nreaching\\t1\\nreassure\\t1\\nreassured\\t1\\nreassures\\t1\\nreassuring\\t2\\nrebellion\\t-2\\nrecession\\t-2\\nreckless\\t-2\\nrecommend\\t2\\nrecommended\\t2\\nrecommends\\t2\\nredeemed\\t2\\nrefuse\\t-2\\nrefused\\t-2\\nrefusing\\t-2\\nregret\\t-2\\nregretful\\t-2\\nregrets\\t-2\\nregretted\\t-2\\nregretting\\t-2\\nreject\\t-1\\nrejected\\t-1\\nrejecting\\t-1\\nrejects\\t-1\\nrejoice\\t4\\nrejoiced\\t4\\nrejoices\\t4\\nrejoicing\\t4\\nrelaxed\\t2\\nrelentless\\t-1\\nreliant\\t2\\nrelieve\\t1\\nrelieved\\t2\\nrelieves\\t1\\nrelieving\\t2\\nrelishing\\t2\\nremarkable\\t2\\nremorse\\t-2\\nrepulse\\t-1\\nrepulsed\\t-2\\nrescue\\t2\\nrescued\\t2\\nrescues\\t2\\nresentful\\t-2\\nresign\\t-1\\nresigned\\t-1\\nresigning\\t-1\\nresigns\\t-1\\nresolute\\t2\\nresolve\\t2\\nresolved\\t2\\nresolves\\t2\\nresolving\\t2\\nrespected\\t2\\nresponsible\\t2\\nresponsive\\t2\\nrestful\\t2\\nrestless\\t-2\\nrestore\\t1\\nrestored\\t1\\nrestores\\t1\\nrestoring\\t1\\nrestrict\\t-2\\nrestricted\\t-2\\nrestricting\\t-2\\nrestriction\\t-2\\nrestricts\\t-2\\nretained\\t-1\\nretard\\t-2\\nretarded\\t-2\\nretreat\\t-1\\nrevenge\\t-2\\nrevengeful\\t-2\\nrevered\\t2\\nrevive\\t2\\nrevives\\t2\\nreward\\t2\\nrewarded\\t2\\nrewarding\\t2\\nrewards\\t2\\nrich\\t2\\nridiculous\\t-3\\nrig\\t-1\\nrigged\\t-1\\nright direction\\t3\\nrigorous\\t3\\nrigorously\\t3\\nriot\\t-2\\nriots\\t-2\\nrisk\\t-2\\nrisks\\t-2\\nrob\\t-2\\nrobber\\t-2\\nrobed\\t-2\\nrobing\\t-2\\nrobs\\t-2\\nrobust\\t2\\nrofl\\t4\\nroflcopter\\t4\\nroflmao\\t4\\nromance\\t2\\nrotfl\\t4\\nrotflmfao\\t4\\nrotflol\\t4\\nruin\\t-2\\nruined\\t-2\\nruining\\t-2\\nruins\\t-2\\nsabotage\\t-2\\nsad\\t-2\\nsadden\\t-2\\nsaddened\\t-2\\nsadly\\t-2\\nsafe\\t1\\nsafely\\t1\\nsafety\\t1\\nsalient\\t1\\nsappy\\t-1\\nsarcastic\\t-2\\nsatisfied\\t2\\nsave\\t2\\nsaved\\t2\\nscam\\t-2\\nscams\\t-2\\nscandal\\t-3\\nscandalous\\t-3\\nscandals\\t-3\\nscapegoat\\t-2\\nscapegoats\\t-2\\nscare\\t-2\\nscared\\t-2\\nscary\\t-2\\nsceptical\\t-2\\nscold\\t-2\\nscoop\\t3\\nscorn\\t-2\\nscornful\\t-2\\nscream\\t-2\\nscreamed\\t-2\\nscreaming\\t-2\\nscreams\\t-2\\nscrewed\\t-2\\nscrewed up\\t-3\\nscumbag\\t-4\\nsecure\\t2\\nsecured\\t2\\nsecures\\t2\\nsedition\\t-2\\nseditious\\t-2\\nseduced\\t-1\\nself-confident\\t2\\nself-deluded\\t-2\\nselfish\\t-3\\nselfishness\\t-3\\nsentence\\t-2\\nsentenced\\t-2\\nsentences\\t-2\\nsentencing\\t-2\\nserene\\t2\\nsevere\\t-2\\nsexy\\t3\\nshaky\\t-2\\nshame\\t-2\\nshamed\\t-2\\nshameful\\t-2\\nshare\\t1\\nshared\\t1\\nshares\\t1\\nshattered\\t-2\\nshit\\t-4\\nshithead\\t-4\\nshitty\\t-3\\nshock\\t-2\\nshocked\\t-2\\nshocking\\t-2\\nshocks\\t-2\\nshoot\\t-1\\nshort-sighted\\t-2\\nshort-sightedness\\t-2\\nshortage\\t-2\\nshortages\\t-2\\nshrew\\t-4\\nshy\\t-1\\nsick\\t-2\\nsigh\\t-2\\nsignificance\\t1\\nsignificant\\t1\\nsilencing\\t-1\\nsilly\\t-1\\nsincere\\t2\\nsincerely\\t2\\nsincerest\\t2\\nsincerity\\t2\\nsinful\\t-3\\nsingleminded\\t-2\\nskeptic\\t-2\\nskeptical\\t-2\\nskepticism\\t-2\\nskeptics\\t-2\\nslam\\t-2\\nslash\\t-2\\nslashed\\t-2\\nslashes\\t-2\\nslashing\\t-2\\nslavery\\t-3\\nsleeplessness\\t-2\\nslick\\t2\\nslicker\\t2\\nslickest\\t2\\nsluggish\\t-2\\nslut\\t-5\\nsmart\\t1\\nsmarter\\t2\\nsmartest\\t2\\nsmear\\t-2\\nsmile\\t2\\nsmiled\\t2\\nsmiles\\t2\\nsmiling\\t2\\nsmog\\t-2\\nsneaky\\t-1\\nsnub\\t-2\\nsnubbed\\t-2\\nsnubbing\\t-2\\nsnubs\\t-2\\nsobering\\t1\\nsolemn\\t-1\\nsolid\\t2\\nsolidarity\\t2\\nsolution\\t1\\nsolutions\\t1\\nsolve\\t1\\nsolved\\t1\\nsolves\\t1\\nsolving\\t1\\nsomber\\t-2\\nsome kind\\t0\\nson-of-a-bitch\\t-5\\nsoothe\\t3\\nsoothed\\t3\\nsoothing\\t3\\nsophisticated\\t2\\nsore\\t-1\\nsorrow\\t-2\\nsorrowful\\t-2\\nsorry\\t-1\\nspam\\t-2\\nspammer\\t-3\\nspammers\\t-3\\nspamming\\t-2\\nspark\\t1\\nsparkle\\t3\\nsparkles\\t3\\nsparkling\\t3\\nspeculative\\t-2\\nspirit\\t1\\nspirited\\t2\\nspiritless\\t-2\\nspiteful\\t-2\\nsplendid\\t3\\nsprightly\\t2\\nsquelched\\t-1\\nstab\\t-2\\nstabbed\\t-2\\nstable\\t2\\nstabs\\t-2\\nstall\\t-2\\nstalled\\t-2\\nstalling\\t-2\\nstamina\\t2\\nstampede\\t-2\\nstartled\\t-2\\nstarve\\t-2\\nstarved\\t-2\\nstarves\\t-2\\nstarving\\t-2\\nsteadfast\\t2\\nsteal\\t-2\\nsteals\\t-2\\nstereotype\\t-2\\nstereotyped\\t-2\\nstifled\\t-1\\nstimulate\\t1\\nstimulated\\t1\\nstimulates\\t1\\nstimulating\\t2\\nstingy\\t-2\\nstolen\\t-2\\nstop\\t-1\\nstopped\\t-1\\nstopping\\t-1\\nstops\\t-1\\nstout\\t2\\nstraight\\t1\\nstrange\\t-1\\nstrangely\\t-1\\nstrangled\\t-2\\nstrength\\t2\\nstrengthen\\t2\\nstrengthened\\t2\\nstrengthening\\t2\\nstrengthens\\t2\\nstressed\\t-2\\nstressor\\t-2\\nstressors\\t-2\\nstricken\\t-2\\nstrike\\t-1\\nstrikers\\t-2\\nstrikes\\t-1\\nstrong\\t2\\nstronger\\t2\\nstrongest\\t2\\nstruck\\t-1\\nstruggle\\t-2\\nstruggled\\t-2\\nstruggles\\t-2\\nstruggling\\t-2\\nstubborn\\t-2\\nstuck\\t-2\\nstunned\\t-2\\nstunning\\t4\\nstupid\\t-2\\nstupidly\\t-2\\nsuave\\t2\\nsubstantial\\t1\\nsubstantially\\t1\\nsubversive\\t-2\\nsuccess\\t2\\nsuccessful\\t3\\nsuck\\t-3\\nsucks\\t-3\\nsuffer\\t-2\\nsuffering\\t-2\\nsuffers\\t-2\\nsuicidal\\t-2\\nsuicide\\t-2\\nsuing\\t-2\\nsulking\\t-2\\nsulky\\t-2\\nsullen\\t-2\\nsunshine\\t2\\nsuper\\t3\\nsuperb\\t5\\nsuperior\\t2\\nsupport\\t2\\nsupported\\t2\\nsupporter\\t1\\nsupporters\\t1\\nsupporting\\t1\\nsupportive\\t2\\nsupports\\t2\\nsurvived\\t2\\nsurviving\\t2\\nsurvivor\\t2\\nsuspect\\t-1\\nsuspected\\t-1\\nsuspecting\\t-1\\nsuspects\\t-1\\nsuspend\\t-1\\nsuspended\\t-1\\nsuspicious\\t-2\\nswear\\t-2\\nswearing\\t-2\\nswears\\t-2\\nsweet\\t2\\nswift\\t2\\nswiftly\\t2\\nswindle\\t-3\\nswindles\\t-3\\nswindling\\t-3\\nsympathetic\\t2\\nsympathy\\t2\\ntard\\t-2\\ntears\\t-2\\ntender\\t2\\ntense\\t-2\\ntension\\t-1\\nterrible\\t-3\\nterribly\\t-3\\nterrific\\t4\\nterrified\\t-3\\nterror\\t-3\\nterrorize\\t-3\\nterrorized\\t-3\\nterrorizes\\t-3\\nthank\\t2\\nthankful\\t2\\nthanks\\t2\\nthorny\\t-2\\nthoughtful\\t2\\nthoughtless\\t-2\\nthreat\\t-2\\nthreaten\\t-2\\nthreatened\\t-2\\nthreatening\\t-2\\nthreatens\\t-2\\nthreats\\t-2\\nthrilled\\t5\\nthwart\\t-2\\nthwarted\\t-2\\nthwarting\\t-2\\nthwarts\\t-2\\ntimid\\t-2\\ntimorous\\t-2\\ntired\\t-2\\ntits\\t-2\\ntolerant\\t2\\ntoothless\\t-2\\ntop\\t2\\ntops\\t2\\ntorn\\t-2\\ntorture\\t-4\\ntortured\\t-4\\ntortures\\t-4\\ntorturing\\t-4\\ntotalitarian\\t-2\\ntotalitarianism\\t-2\\ntout\\t-2\\ntouted\\t-2\\ntouting\\t-2\\ntouts\\t-2\\ntragedy\\t-2\\ntragic\\t-2\\ntranquil\\t2\\ntrap\\t-1\\ntrapped\\t-2\\ntrauma\\t-3\\ntraumatic\\t-3\\ntravesty\\t-2\\ntreason\\t-3\\ntreasonous\\t-3\\ntreasure\\t2\\ntreasures\\t2\\ntrembling\\t-2\\ntremulous\\t-2\\ntricked\\t-2\\ntrickery\\t-2\\ntriumph\\t4\\ntriumphant\\t4\\ntrouble\\t-2\\ntroubled\\t-2\\ntroubles\\t-2\\ntrue\\t2\\ntrust\\t1\\ntrusted\\t2\\ntumor\\t-2\\ntwat\\t-5\\nugly\\t-3\\nunacceptable\\t-2\\nunappreciated\\t-2\\nunapproved\\t-2\\nunaware\\t-2\\nunbelievable\\t-1\\nunbelieving\\t-1\\nunbiased\\t2\\nuncertain\\t-1\\nunclear\\t-1\\nuncomfortable\\t-2\\nunconcerned\\t-2\\nunconfirmed\\t-1\\nunconvinced\\t-1\\nuncredited\\t-1\\nundecided\\t-1\\nunderestimate\\t-1\\nunderestimated\\t-1\\nunderestimates\\t-1\\nunderestimating\\t-1\\nundermine\\t-2\\nundermined\\t-2\\nundermines\\t-2\\nundermining\\t-2\\nundeserving\\t-2\\nundesirable\\t-2\\nuneasy\\t-2\\nunemployment\\t-2\\nunequal\\t-1\\nunequaled\\t2\\nunethical\\t-2\\nunfair\\t-2\\nunfocused\\t-2\\nunfulfilled\\t-2\\nunhappy\\t-2\\nunhealthy\\t-2\\nunified\\t1\\nunimpressed\\t-2\\nunintelligent\\t-2\\nunited\\t1\\nunjust\\t-2\\nunlovable\\t-2\\nunloved\\t-2\\nunmatched\\t1\\nunmotivated\\t-2\\nunprofessional\\t-2\\nunresearched\\t-2\\nunsatisfied\\t-2\\nunsecured\\t-2\\nunsettled\\t-1\\nunsophisticated\\t-2\\nunstable\\t-2\\nunstoppable\\t2\\nunsupported\\t-2\\nunsure\\t-1\\nuntarnished\\t2\\nunwanted\\t-2\\nunworthy\\t-2\\nupset\\t-2\\nupsets\\t-2\\nupsetting\\t-2\\nuptight\\t-2\\nurgent\\t-1\\nuseful\\t2\\nusefulness\\t2\\nuseless\\t-2\\nuselessness\\t-2\\nvague\\t-2\\nvalidate\\t1\\nvalidated\\t1\\nvalidates\\t1\\nvalidating\\t1\\nverdict\\t-1\\nverdicts\\t-1\\nvested\\t1\\nvexation\\t-2\\nvexing\\t-2\\nvibrant\\t3\\nvicious\\t-2\\nvictim\\t-3\\nvictimize\\t-3\\nvictimized\\t-3\\nvictimizes\\t-3\\nvictimizing\\t-3\\nvictims\\t-3\\nvigilant\\t3\\nvile\\t-3\\nvindicate\\t2\\nvindicated\\t2\\nvindicates\\t2\\nvindicating\\t2\\nviolate\\t-2\\nviolated\\t-2\\nviolates\\t-2\\nviolating\\t-2\\nviolence\\t-3\\nviolent\\t-3\\nvirtuous\\t2\\nvirulent\\t-2\\nvision\\t1\\nvisionary\\t3\\nvisioning\\t1\\nvisions\\t1\\nvitality\\t3\\nvitamin\\t1\\nvitriolic\\t-3\\nvivacious\\t3\\nvociferous\\t-1\\nvulnerability\\t-2\\nvulnerable\\t-2\\nwalkout\\t-2\\nwalkouts\\t-2\\nwanker\\t-3\\nwant\\t1\\nwar\\t-2\\nwarfare\\t-2\\nwarm\\t1\\nwarmth\\t2\\nwarn\\t-2\\nwarned\\t-2\\nwarning\\t-3\\nwarnings\\t-3\\nwarns\\t-2\\nwaste\\t-1\\nwasted\\t-2\\nwasting\\t-2\\nwavering\\t-1\\nweak\\t-2\\nweakness\\t-2\\nwealth\\t3\\nwealthy\\t2\\nweary\\t-2\\nweep\\t-2\\nweeping\\t-2\\nweird\\t-2\\nwelcome\\t2\\nwelcomed\\t2\\nwelcomes\\t2\\nwhimsical\\t1\\nwhitewash\\t-3\\nwhore\\t-4\\nwicked\\t-2\\nwidowed\\t-1\\nwillingness\\t2\\nwin\\t4\\nwinner\\t4\\nwinning\\t4\\nwins\\t4\\nwinwin\\t3\\nwish\\t1\\nwishes\\t1\\nwishing\\t1\\nwithdrawal\\t-3\\nwoebegone\\t-2\\nwoeful\\t-3\\nwon\\t3\\nwonderful\\t4\\nwoo\\t3\\nwoohoo\\t3\\nwooo\\t4\\nwoow\\t4\\nworn\\t-1\\nworried\\t-3\\nworry\\t-3\\nworrying\\t-3\\nworse\\t-3\\nworsen\\t-3\\nworsened\\t-3\\nworsening\\t-3\\nworsens\\t-3\\nworshiped\\t3\\nworst\\t-3\\nworth\\t2\\nworthless\\t-2\\nworthy\\t2\\nwow\\t4\\nwowow\\t4\\nwowww\\t4\\nwrathful\\t-3\\nwreck\\t-2\\nwrong\\t-2\\nwronged\\t-2\\nwtf\\t-4\\nyeah\\t1\\nyearning\\t1\\nyeees\\t2\\nyes\\t1\\nyouthful\\t2\\nyucky\\t-2\\nyummy\\t3\\nzealot\\t-2\\nzealots\\t-2\\nzealous\\t2\""
            ]
          },
          "metadata": {
            "tags": []
          },
          "execution_count": 10
        }
      ]
    },
    {
      "cell_type": "code",
      "metadata": {
        "id": "_U-5tzyQiXcZ",
        "colab_type": "code",
        "colab": {
          "base_uri": "https://localhost:8080/",
          "height": 34
        },
        "outputId": "afaa4e13-4d63-47e5-c68a-90f24e4041db"
      },
      "source": [
        "str(data).split(\"\\\\n\")[100].split(\"\\\\t\")"
      ],
      "execution_count": 11,
      "outputs": [
        {
          "output_type": "execute_result",
          "data": {
            "text/plain": [
              "['alarm', '-2']"
            ]
          },
          "metadata": {
            "tags": []
          },
          "execution_count": 11
        }
      ]
    },
    {
      "cell_type": "code",
      "metadata": {
        "id": "hl-3UMBgidxT",
        "colab_type": "code",
        "colab": {}
      },
      "source": [
        "# str(data).split(\"\\\\n\")[10].split(\"\\\\t\")\n",
        "#!wget https://raw.githubusercontent.com/abromberg/sentiment_analysis/master/AFINN/AFINN-111.txt\n",
        "d= {}\n",
        "\n",
        "for each_element in str(data).split(\"\\\\n\"):\n",
        "  d[each_element.split(\"\\\\t\")[0]] = each_element.split(\"\\\\t\")[1]"
      ],
      "execution_count": 0,
      "outputs": []
    },
    {
      "cell_type": "code",
      "metadata": {
        "id": "7WOKSwm5iidR",
        "colab_type": "code",
        "colab": {
          "base_uri": "https://localhost:8080/",
          "height": 34
        },
        "outputId": "fa3fd90b-5fdd-42a8-ee4f-eef33a65afd8"
      },
      "source": [
        "d['abducted']"
      ],
      "execution_count": 13,
      "outputs": [
        {
          "output_type": "execute_result",
          "data": {
            "text/plain": [
              "'-2'"
            ]
          },
          "metadata": {
            "tags": []
          },
          "execution_count": 13
        }
      ]
    },
    {
      "cell_type": "code",
      "metadata": {
        "id": "aRI8bH76ila0",
        "colab_type": "code",
        "colab": {
          "base_uri": "https://localhost:8080/",
          "height": 34
        },
        "outputId": "f821230c-f8b2-4b5f-e8f9-3a7bdd88a8f4"
      },
      "source": [
        "int(d['accusing'])"
      ],
      "execution_count": 14,
      "outputs": [
        {
          "output_type": "execute_result",
          "data": {
            "text/plain": [
              "-2"
            ]
          },
          "metadata": {
            "tags": []
          },
          "execution_count": 14
        }
      ]
    },
    {
      "cell_type": "code",
      "metadata": {
        "id": "pUp6RA1Hiuvl",
        "colab_type": "code",
        "colab": {}
      },
      "source": [
        "eachRow = review_data['Review Text'].iloc[0]"
      ],
      "execution_count": 0,
      "outputs": []
    },
    {
      "cell_type": "code",
      "metadata": {
        "id": "OVxfXd4EiywU",
        "colab_type": "code",
        "colab": {}
      },
      "source": [
        "import numpy as np\n",
        "def getSentiment(eachRow):\n",
        "  TotalSum = []\n",
        "  for eachWord in eachRow.split():\n",
        "    if eachWord in d:   # if it is found in the dictionary \n",
        "      TotalSum.append(int(d[eachWord]))\n",
        "  return np.sum(TotalSum)\n",
        "  # return TotalSum\n",
        "\n",
        "review_data['Sentiment'] = review_data['Review Text'].apply(getSentiment)"
      ],
      "execution_count": 0,
      "outputs": []
    },
    {
      "cell_type": "code",
      "metadata": {
        "id": "Hy6q-gbki4vf",
        "colab_type": "code",
        "colab": {
          "base_uri": "https://localhost:8080/",
          "height": 419
        },
        "outputId": "a14edabb-320b-4817-d7c6-b7fbf1609e81"
      },
      "source": [
        "review_data[['Review Text','Sentiment']]"
      ],
      "execution_count": 23,
      "outputs": [
        {
          "output_type": "execute_result",
          "data": {
            "text/html": [
              "<div>\n",
              "<style scoped>\n",
              "    .dataframe tbody tr th:only-of-type {\n",
              "        vertical-align: middle;\n",
              "    }\n",
              "\n",
              "    .dataframe tbody tr th {\n",
              "        vertical-align: top;\n",
              "    }\n",
              "\n",
              "    .dataframe thead th {\n",
              "        text-align: right;\n",
              "    }\n",
              "</style>\n",
              "<table border=\"1\" class=\"dataframe\">\n",
              "  <thead>\n",
              "    <tr style=\"text-align: right;\">\n",
              "      <th></th>\n",
              "      <th>Review Text</th>\n",
              "      <th>Sentiment</th>\n",
              "    </tr>\n",
              "  </thead>\n",
              "  <tbody>\n",
              "    <tr>\n",
              "      <th>2</th>\n",
              "      <td>I had such high hopes for this dress and reall...</td>\n",
              "      <td>7.0</td>\n",
              "    </tr>\n",
              "    <tr>\n",
              "      <th>3</th>\n",
              "      <td>I love, love, love this jumpsuit. it's fun, fl...</td>\n",
              "      <td>6.0</td>\n",
              "    </tr>\n",
              "    <tr>\n",
              "      <th>4</th>\n",
              "      <td>This shirt is very flattering to all due to th...</td>\n",
              "      <td>6.0</td>\n",
              "    </tr>\n",
              "    <tr>\n",
              "      <th>5</th>\n",
              "      <td>I love tracy reese dresses, but this one is no...</td>\n",
              "      <td>7.0</td>\n",
              "    </tr>\n",
              "    <tr>\n",
              "      <th>6</th>\n",
              "      <td>I aded this in my basket at hte last mintue to...</td>\n",
              "      <td>1.0</td>\n",
              "    </tr>\n",
              "    <tr>\n",
              "      <th>...</th>\n",
              "      <td>...</td>\n",
              "      <td>...</td>\n",
              "    </tr>\n",
              "    <tr>\n",
              "      <th>23481</th>\n",
              "      <td>I was very happy to snag this dress at such a ...</td>\n",
              "      <td>6.0</td>\n",
              "    </tr>\n",
              "    <tr>\n",
              "      <th>23482</th>\n",
              "      <td>It reminds me of maternity clothes. soft, stre...</td>\n",
              "      <td>2.0</td>\n",
              "    </tr>\n",
              "    <tr>\n",
              "      <th>23483</th>\n",
              "      <td>This fit well, but the top was very see throug...</td>\n",
              "      <td>6.0</td>\n",
              "    </tr>\n",
              "    <tr>\n",
              "      <th>23484</th>\n",
              "      <td>I bought this dress for a wedding i have this ...</td>\n",
              "      <td>6.0</td>\n",
              "    </tr>\n",
              "    <tr>\n",
              "      <th>23485</th>\n",
              "      <td>This dress in a lovely platinum is feminine an...</td>\n",
              "      <td>4.0</td>\n",
              "    </tr>\n",
              "  </tbody>\n",
              "</table>\n",
              "<p>19662 rows × 2 columns</p>\n",
              "</div>"
            ],
            "text/plain": [
              "                                             Review Text  Sentiment\n",
              "2      I had such high hopes for this dress and reall...        7.0\n",
              "3      I love, love, love this jumpsuit. it's fun, fl...        6.0\n",
              "4      This shirt is very flattering to all due to th...        6.0\n",
              "5      I love tracy reese dresses, but this one is no...        7.0\n",
              "6      I aded this in my basket at hte last mintue to...        1.0\n",
              "...                                                  ...        ...\n",
              "23481  I was very happy to snag this dress at such a ...        6.0\n",
              "23482  It reminds me of maternity clothes. soft, stre...        2.0\n",
              "23483  This fit well, but the top was very see throug...        6.0\n",
              "23484  I bought this dress for a wedding i have this ...        6.0\n",
              "23485  This dress in a lovely platinum is feminine an...        4.0\n",
              "\n",
              "[19662 rows x 2 columns]"
            ]
          },
          "metadata": {
            "tags": []
          },
          "execution_count": 23
        }
      ]
    },
    {
      "cell_type": "code",
      "metadata": {
        "id": "kVWpPZzMi-QP",
        "colab_type": "code",
        "colab": {
          "base_uri": "https://localhost:8080/",
          "height": 306
        },
        "outputId": "1fed3074-617d-4185-f203-664245e8971e"
      },
      "source": [
        "review_data.head()"
      ],
      "execution_count": 24,
      "outputs": [
        {
          "output_type": "execute_result",
          "data": {
            "text/html": [
              "<div>\n",
              "<style scoped>\n",
              "    .dataframe tbody tr th:only-of-type {\n",
              "        vertical-align: middle;\n",
              "    }\n",
              "\n",
              "    .dataframe tbody tr th {\n",
              "        vertical-align: top;\n",
              "    }\n",
              "\n",
              "    .dataframe thead th {\n",
              "        text-align: right;\n",
              "    }\n",
              "</style>\n",
              "<table border=\"1\" class=\"dataframe\">\n",
              "  <thead>\n",
              "    <tr style=\"text-align: right;\">\n",
              "      <th></th>\n",
              "      <th>Unnamed: 0</th>\n",
              "      <th>Clothing ID</th>\n",
              "      <th>Age</th>\n",
              "      <th>Title</th>\n",
              "      <th>Review Text</th>\n",
              "      <th>Rating</th>\n",
              "      <th>Recommended IND</th>\n",
              "      <th>Positive Feedback Count</th>\n",
              "      <th>Division Name</th>\n",
              "      <th>Department Name</th>\n",
              "      <th>Class Name</th>\n",
              "      <th>Sentiment</th>\n",
              "    </tr>\n",
              "  </thead>\n",
              "  <tbody>\n",
              "    <tr>\n",
              "      <th>2</th>\n",
              "      <td>2</td>\n",
              "      <td>1077</td>\n",
              "      <td>60</td>\n",
              "      <td>Some major design flaws</td>\n",
              "      <td>I had such high hopes for this dress and reall...</td>\n",
              "      <td>3</td>\n",
              "      <td>0</td>\n",
              "      <td>0</td>\n",
              "      <td>General</td>\n",
              "      <td>Dresses</td>\n",
              "      <td>Dresses</td>\n",
              "      <td>7.0</td>\n",
              "    </tr>\n",
              "    <tr>\n",
              "      <th>3</th>\n",
              "      <td>3</td>\n",
              "      <td>1049</td>\n",
              "      <td>50</td>\n",
              "      <td>My favorite buy!</td>\n",
              "      <td>I love, love, love this jumpsuit. it's fun, fl...</td>\n",
              "      <td>5</td>\n",
              "      <td>1</td>\n",
              "      <td>0</td>\n",
              "      <td>General Petite</td>\n",
              "      <td>Bottoms</td>\n",
              "      <td>Pants</td>\n",
              "      <td>6.0</td>\n",
              "    </tr>\n",
              "    <tr>\n",
              "      <th>4</th>\n",
              "      <td>4</td>\n",
              "      <td>847</td>\n",
              "      <td>47</td>\n",
              "      <td>Flattering shirt</td>\n",
              "      <td>This shirt is very flattering to all due to th...</td>\n",
              "      <td>5</td>\n",
              "      <td>1</td>\n",
              "      <td>6</td>\n",
              "      <td>General</td>\n",
              "      <td>Tops</td>\n",
              "      <td>Blouses</td>\n",
              "      <td>6.0</td>\n",
              "    </tr>\n",
              "    <tr>\n",
              "      <th>5</th>\n",
              "      <td>5</td>\n",
              "      <td>1080</td>\n",
              "      <td>49</td>\n",
              "      <td>Not for the very petite</td>\n",
              "      <td>I love tracy reese dresses, but this one is no...</td>\n",
              "      <td>2</td>\n",
              "      <td>0</td>\n",
              "      <td>4</td>\n",
              "      <td>General</td>\n",
              "      <td>Dresses</td>\n",
              "      <td>Dresses</td>\n",
              "      <td>7.0</td>\n",
              "    </tr>\n",
              "    <tr>\n",
              "      <th>6</th>\n",
              "      <td>6</td>\n",
              "      <td>858</td>\n",
              "      <td>39</td>\n",
              "      <td>Cagrcoal shimmer fun</td>\n",
              "      <td>I aded this in my basket at hte last mintue to...</td>\n",
              "      <td>5</td>\n",
              "      <td>1</td>\n",
              "      <td>1</td>\n",
              "      <td>General Petite</td>\n",
              "      <td>Tops</td>\n",
              "      <td>Knits</td>\n",
              "      <td>1.0</td>\n",
              "    </tr>\n",
              "  </tbody>\n",
              "</table>\n",
              "</div>"
            ],
            "text/plain": [
              "   Unnamed: 0  Clothing ID  Age  ... Department Name Class Name  Sentiment\n",
              "2           2         1077   60  ...         Dresses    Dresses        7.0\n",
              "3           3         1049   50  ...         Bottoms      Pants        6.0\n",
              "4           4          847   47  ...            Tops    Blouses        6.0\n",
              "5           5         1080   49  ...         Dresses    Dresses        7.0\n",
              "6           6          858   39  ...            Tops      Knits        1.0\n",
              "\n",
              "[5 rows x 12 columns]"
            ]
          },
          "metadata": {
            "tags": []
          },
          "execution_count": 24
        }
      ]
    },
    {
      "cell_type": "code",
      "metadata": {
        "id": "rd4PJwVzjE-s",
        "colab_type": "code",
        "colab": {
          "base_uri": "https://localhost:8080/",
          "height": 231
        },
        "outputId": "e42dbe6c-b258-488a-f9e1-9ef3bf6ba20e"
      },
      "source": [
        "\n",
        "## adding the minimum value of sentiment score so as to remove negative sentiment scores\n",
        "\n",
        "\n",
        "import pickle\n",
        "\n",
        "with open(\"sent.txt\", \"rb\") as fp:   # Unpickling\n",
        "    b = pickle.load(fp)\n",
        "\n",
        "review_data_k_means['sent_score'] = b\n",
        "\n",
        "min_sent = abs(np.min(review_data_k_means['sent_score']))\n",
        "review_data_k_means['sent_score'] =  review_data_k_means['sent_score'] + abs(np.min(review_data_k_means['sent_score']))\n",
        "review_data_k_means.drop('Review Text',axis=1,inplace=True)"
      ],
      "execution_count": 28,
      "outputs": [
        {
          "output_type": "error",
          "ename": "FileNotFoundError",
          "evalue": "ignored",
          "traceback": [
            "\u001b[0;31m---------------------------------------------------------------------------\u001b[0m",
            "\u001b[0;31mFileNotFoundError\u001b[0m                         Traceback (most recent call last)",
            "\u001b[0;32m<ipython-input-28-88e2895e1d45>\u001b[0m in \u001b[0;36m<module>\u001b[0;34m()\u001b[0m\n\u001b[1;32m      3\u001b[0m \u001b[0;32mimport\u001b[0m \u001b[0mpickle\u001b[0m\u001b[0;34m\u001b[0m\u001b[0;34m\u001b[0m\u001b[0m\n\u001b[1;32m      4\u001b[0m \u001b[0;34m\u001b[0m\u001b[0m\n\u001b[0;32m----> 5\u001b[0;31m \u001b[0;32mwith\u001b[0m \u001b[0mopen\u001b[0m\u001b[0;34m(\u001b[0m\u001b[0;34m\"sent.txt\"\u001b[0m\u001b[0;34m,\u001b[0m \u001b[0;34m\"rb\"\u001b[0m\u001b[0;34m)\u001b[0m \u001b[0;32mas\u001b[0m \u001b[0mfp\u001b[0m\u001b[0;34m:\u001b[0m   \u001b[0;31m# Unpickling\u001b[0m\u001b[0;34m\u001b[0m\u001b[0;34m\u001b[0m\u001b[0m\n\u001b[0m\u001b[1;32m      6\u001b[0m     \u001b[0mb\u001b[0m \u001b[0;34m=\u001b[0m \u001b[0mpickle\u001b[0m\u001b[0;34m.\u001b[0m\u001b[0mload\u001b[0m\u001b[0;34m(\u001b[0m\u001b[0mfp\u001b[0m\u001b[0;34m)\u001b[0m\u001b[0;34m\u001b[0m\u001b[0;34m\u001b[0m\u001b[0m\n\u001b[1;32m      7\u001b[0m \u001b[0;34m\u001b[0m\u001b[0m\n",
            "\u001b[0;31mFileNotFoundError\u001b[0m: [Errno 2] No such file or directory: 'sent.txt'"
          ]
        }
      ]
    },
    {
      "cell_type": "code",
      "metadata": {
        "id": "AFZ5qZAMjMSz",
        "colab_type": "code",
        "colab": {
          "base_uri": "https://localhost:8080/",
          "height": 204
        },
        "outputId": "0855a61d-5d43-44e9-e669-2bb1baa9b875"
      },
      "source": [
        "review_data_k_means.head()"
      ],
      "execution_count": 20,
      "outputs": [
        {
          "output_type": "execute_result",
          "data": {
            "text/html": [
              "<div>\n",
              "<style scoped>\n",
              "    .dataframe tbody tr th:only-of-type {\n",
              "        vertical-align: middle;\n",
              "    }\n",
              "\n",
              "    .dataframe tbody tr th {\n",
              "        vertical-align: top;\n",
              "    }\n",
              "\n",
              "    .dataframe thead th {\n",
              "        text-align: right;\n",
              "    }\n",
              "</style>\n",
              "<table border=\"1\" class=\"dataframe\">\n",
              "  <thead>\n",
              "    <tr style=\"text-align: right;\">\n",
              "      <th></th>\n",
              "      <th>Age</th>\n",
              "      <th>Review Text</th>\n",
              "      <th>Rating</th>\n",
              "      <th>Positive Feedback Count</th>\n",
              "    </tr>\n",
              "  </thead>\n",
              "  <tbody>\n",
              "    <tr>\n",
              "      <th>2</th>\n",
              "      <td>60</td>\n",
              "      <td>I had such high hopes for this dress and reall...</td>\n",
              "      <td>3</td>\n",
              "      <td>0</td>\n",
              "    </tr>\n",
              "    <tr>\n",
              "      <th>3</th>\n",
              "      <td>50</td>\n",
              "      <td>I love, love, love this jumpsuit. it's fun, fl...</td>\n",
              "      <td>5</td>\n",
              "      <td>0</td>\n",
              "    </tr>\n",
              "    <tr>\n",
              "      <th>4</th>\n",
              "      <td>47</td>\n",
              "      <td>This shirt is very flattering to all due to th...</td>\n",
              "      <td>5</td>\n",
              "      <td>6</td>\n",
              "    </tr>\n",
              "    <tr>\n",
              "      <th>5</th>\n",
              "      <td>49</td>\n",
              "      <td>I love tracy reese dresses, but this one is no...</td>\n",
              "      <td>2</td>\n",
              "      <td>4</td>\n",
              "    </tr>\n",
              "    <tr>\n",
              "      <th>6</th>\n",
              "      <td>39</td>\n",
              "      <td>I aded this in my basket at hte last mintue to...</td>\n",
              "      <td>5</td>\n",
              "      <td>1</td>\n",
              "    </tr>\n",
              "  </tbody>\n",
              "</table>\n",
              "</div>"
            ],
            "text/plain": [
              "   Age  ... Positive Feedback Count\n",
              "2   60  ...                       0\n",
              "3   50  ...                       0\n",
              "4   47  ...                       6\n",
              "5   49  ...                       4\n",
              "6   39  ...                       1\n",
              "\n",
              "[5 rows x 4 columns]"
            ]
          },
          "metadata": {
            "tags": []
          },
          "execution_count": 20
        }
      ]
    },
    {
      "cell_type": "code",
      "metadata": {
        "id": "JYXZXtifjTgO",
        "colab_type": "code",
        "colab": {
          "base_uri": "https://localhost:8080/",
          "height": 866
        },
        "outputId": "baef6863-f138-4f3b-d6f5-eea4c7394b38"
      },
      "source": [
        "sns.set_style('darkgrid')\n",
        "plt.title('Distribution of Each Column in the Data')\n",
        "\n",
        "for i,col in enumerate(review_data_k_means.columns):\n",
        "    plt.figure(i)\n",
        "    sns.distplot(review_data_k_means[col])"
      ],
      "execution_count": 21,
      "outputs": [
        {
          "output_type": "error",
          "ename": "TypeError",
          "evalue": "ignored",
          "traceback": [
            "\u001b[0;31m---------------------------------------------------------------------------\u001b[0m",
            "\u001b[0;31mTypeError\u001b[0m                                 Traceback (most recent call last)",
            "\u001b[0;32m<ipython-input-21-77865cf3e9b5>\u001b[0m in \u001b[0;36m<module>\u001b[0;34m()\u001b[0m\n\u001b[1;32m      4\u001b[0m \u001b[0;32mfor\u001b[0m \u001b[0mi\u001b[0m\u001b[0;34m,\u001b[0m\u001b[0mcol\u001b[0m \u001b[0;32min\u001b[0m \u001b[0menumerate\u001b[0m\u001b[0;34m(\u001b[0m\u001b[0mreview_data_k_means\u001b[0m\u001b[0;34m.\u001b[0m\u001b[0mcolumns\u001b[0m\u001b[0;34m)\u001b[0m\u001b[0;34m:\u001b[0m\u001b[0;34m\u001b[0m\u001b[0;34m\u001b[0m\u001b[0m\n\u001b[1;32m      5\u001b[0m     \u001b[0mplt\u001b[0m\u001b[0;34m.\u001b[0m\u001b[0mfigure\u001b[0m\u001b[0;34m(\u001b[0m\u001b[0mi\u001b[0m\u001b[0;34m)\u001b[0m\u001b[0;34m\u001b[0m\u001b[0;34m\u001b[0m\u001b[0m\n\u001b[0;32m----> 6\u001b[0;31m     \u001b[0msns\u001b[0m\u001b[0;34m.\u001b[0m\u001b[0mdistplot\u001b[0m\u001b[0;34m(\u001b[0m\u001b[0mreview_data_k_means\u001b[0m\u001b[0;34m[\u001b[0m\u001b[0mcol\u001b[0m\u001b[0;34m]\u001b[0m\u001b[0;34m)\u001b[0m\u001b[0;34m\u001b[0m\u001b[0;34m\u001b[0m\u001b[0m\n\u001b[0m",
            "\u001b[0;32m/usr/local/lib/python3.6/dist-packages/seaborn/distributions.py\u001b[0m in \u001b[0;36mdistplot\u001b[0;34m(a, bins, hist, kde, rug, fit, hist_kws, kde_kws, rug_kws, fit_kws, color, vertical, norm_hist, axlabel, label, ax)\u001b[0m\n\u001b[1;32m    196\u001b[0m             \u001b[0mline\u001b[0m\u001b[0;34m,\u001b[0m \u001b[0;34m=\u001b[0m \u001b[0max\u001b[0m\u001b[0;34m.\u001b[0m\u001b[0mplot\u001b[0m\u001b[0;34m(\u001b[0m\u001b[0;36m0\u001b[0m\u001b[0;34m,\u001b[0m \u001b[0ma\u001b[0m\u001b[0;34m.\u001b[0m\u001b[0mmean\u001b[0m\u001b[0;34m(\u001b[0m\u001b[0;34m)\u001b[0m\u001b[0;34m)\u001b[0m\u001b[0;34m\u001b[0m\u001b[0;34m\u001b[0m\u001b[0m\n\u001b[1;32m    197\u001b[0m         \u001b[0;32melse\u001b[0m\u001b[0;34m:\u001b[0m\u001b[0;34m\u001b[0m\u001b[0;34m\u001b[0m\u001b[0m\n\u001b[0;32m--> 198\u001b[0;31m             \u001b[0mline\u001b[0m\u001b[0;34m,\u001b[0m \u001b[0;34m=\u001b[0m \u001b[0max\u001b[0m\u001b[0;34m.\u001b[0m\u001b[0mplot\u001b[0m\u001b[0;34m(\u001b[0m\u001b[0ma\u001b[0m\u001b[0;34m.\u001b[0m\u001b[0mmean\u001b[0m\u001b[0;34m(\u001b[0m\u001b[0;34m)\u001b[0m\u001b[0;34m,\u001b[0m \u001b[0;36m0\u001b[0m\u001b[0;34m)\u001b[0m\u001b[0;34m\u001b[0m\u001b[0;34m\u001b[0m\u001b[0m\n\u001b[0m\u001b[1;32m    199\u001b[0m         \u001b[0mcolor\u001b[0m \u001b[0;34m=\u001b[0m \u001b[0mline\u001b[0m\u001b[0;34m.\u001b[0m\u001b[0mget_color\u001b[0m\u001b[0;34m(\u001b[0m\u001b[0;34m)\u001b[0m\u001b[0;34m\u001b[0m\u001b[0;34m\u001b[0m\u001b[0m\n\u001b[1;32m    200\u001b[0m         \u001b[0mline\u001b[0m\u001b[0;34m.\u001b[0m\u001b[0mremove\u001b[0m\u001b[0;34m(\u001b[0m\u001b[0;34m)\u001b[0m\u001b[0;34m\u001b[0m\u001b[0;34m\u001b[0m\u001b[0m\n",
            "\u001b[0;32m/usr/local/lib/python3.6/dist-packages/numpy/core/_methods.py\u001b[0m in \u001b[0;36m_mean\u001b[0;34m(a, axis, dtype, out, keepdims)\u001b[0m\n\u001b[1;32m    161\u001b[0m             \u001b[0mret\u001b[0m \u001b[0;34m=\u001b[0m \u001b[0mret\u001b[0m\u001b[0;34m.\u001b[0m\u001b[0mdtype\u001b[0m\u001b[0;34m.\u001b[0m\u001b[0mtype\u001b[0m\u001b[0;34m(\u001b[0m\u001b[0mret\u001b[0m \u001b[0;34m/\u001b[0m \u001b[0mrcount\u001b[0m\u001b[0;34m)\u001b[0m\u001b[0;34m\u001b[0m\u001b[0;34m\u001b[0m\u001b[0m\n\u001b[1;32m    162\u001b[0m     \u001b[0;32melse\u001b[0m\u001b[0;34m:\u001b[0m\u001b[0;34m\u001b[0m\u001b[0;34m\u001b[0m\u001b[0m\n\u001b[0;32m--> 163\u001b[0;31m         \u001b[0mret\u001b[0m \u001b[0;34m=\u001b[0m \u001b[0mret\u001b[0m \u001b[0;34m/\u001b[0m \u001b[0mrcount\u001b[0m\u001b[0;34m\u001b[0m\u001b[0;34m\u001b[0m\u001b[0m\n\u001b[0m\u001b[1;32m    164\u001b[0m \u001b[0;34m\u001b[0m\u001b[0m\n\u001b[1;32m    165\u001b[0m     \u001b[0;32mreturn\u001b[0m \u001b[0mret\u001b[0m\u001b[0;34m\u001b[0m\u001b[0;34m\u001b[0m\u001b[0m\n",
            "\u001b[0;31mTypeError\u001b[0m: unsupported operand type(s) for /: 'str' and 'int'"
          ]
        },
        {
          "output_type": "display_data",
          "data": {
            "image/png": "[encoded data removed]",
            "text/plain": [
              "<Figure size 432x288 with 1 Axes>"
            ]
          },
          "metadata": {
            "tags": []
          }
        },
        {
          "output_type": "display_data",
          "data": {
            "image/png": "[encoded data removed]",
            "text/plain": [
              "<Figure size 432x288 with 1 Axes>"
            ]
          },
          "metadata": {
            "tags": []
          }
        }
      ]
    }
  ]
}